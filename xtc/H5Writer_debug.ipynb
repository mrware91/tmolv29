{
 "cells": [
  {
   "cell_type": "markdown",
   "metadata": {},
   "source": [
    "# Select the LCLS-II py3 kernel in the top right\n",
    "# Import libraries"
   ]
  },
  {
   "cell_type": "code",
   "execution_count": null,
   "metadata": {},
   "outputs": [],
   "source": [
    "import numpy as np\n",
    "import matplotlib.pyplot as plt\n",
    "import psana as ps"
   ]
  },
  {
   "cell_type": "markdown",
   "metadata": {},
   "source": [
    "# Specify experiment and run number. Then generate datasource"
   ]
  },
  {
   "cell_type": "code",
   "execution_count": null,
   "metadata": {},
   "outputs": [],
   "source": [
    "exp = 'tmolv2918'\n",
    "run_number = 215\n",
    "ds = ps.DataSource(exp=exp, run=run_number)\n",
    "run = next(ds.runs())"
   ]
  },
  {
   "cell_type": "markdown",
   "metadata": {},
   "source": [
    "# Setup smd"
   ]
  },
  {
   "cell_type": "code",
   "execution_count": null,
   "metadata": {},
   "outputs": [],
   "source": [
    "smd = ds.smalldata(filename='test.h5')"
   ]
  },
  {
   "cell_type": "code",
   "execution_count": null,
   "metadata": {},
   "outputs": [],
   "source": [
    "evt0=next(run.events())"
   ]
  },
  {
   "cell_type": "code",
   "execution_count": null,
   "metadata": {},
   "outputs": [],
   "source": [
    "help(smd)"
   ]
  },
  {
   "cell_type": "code",
   "execution_count": null,
   "metadata": {},
   "outputs": [],
   "source": [
    "testData = {'det':np.arange(10)*np.nan, 'epics_det1':0,'epics_det2':np.nan}"
   ]
  },
  {
   "cell_type": "code",
   "execution_count": null,
   "metadata": {},
   "outputs": [],
   "source": [
    "smd.event(evt0, **testData)"
   ]
  },
  {
   "cell_type": "code",
   "execution_count": null,
   "metadata": {},
   "outputs": [],
   "source": [
    "Nbad = 1\n",
    "Nfound = 1\n",
    "rebin_factor = 10\n",
    "mpks = np.array([1,2,3,4])\n",
    "if smd.summary:\n",
    "    Nbad = smd.sum(Nbad)\n",
    "    Nfound = smd.sum(Nfound)\n",
    "    smd.save_summary(summary_Nfound=Nfound, summary_Nbad=Nbad, summary_rebin_factor=rebin_factor, summary_mpks=mpks.copy())\n",
    "    \n",
    "smd.done()\n",
    "\n",
    "print(smd.summary)"
   ]
  },
  {
   "cell_type": "markdown",
   "metadata": {},
   "source": [
    "# Open H5 and reorganize H5"
   ]
  },
  {
   "cell_type": "code",
   "execution_count": null,
   "metadata": {},
   "outputs": [],
   "source": [
    "import h5py"
   ]
  },
  {
   "cell_type": "code",
   "execution_count": null,
   "metadata": {},
   "outputs": [],
   "source": [
    "raw = h5py.File(\"test.h5\",'r')"
   ]
  },
  {
   "cell_type": "code",
   "execution_count": null,
   "metadata": {},
   "outputs": [],
   "source": [
    "def generateDataset(raw, key, keyword, out):\n",
    "    if keyword in key:\n",
    "        detname = key.replace(keyword,'')\n",
    "        subfolder = keyword.replace('_','')\n",
    "        if subfolder not in out:\n",
    "            out.create_group(subfolder)\n",
    "        out.create_dataset(name = '/%s/%s' % (subfolder,detname), data = raw[ key ])\n",
    "        return True\n",
    "    else:\n",
    "        return False\n",
    "    \n",
    "def reformatH5( origFile, outFile ):\n",
    "    raw = h5py(origFile, 'r')\n",
    "    with h5py.File(outFile,'w') as out:\n",
    "        for key in raw.keys():\n",
    "            keyword = 'epics_'\n",
    "            placed = generateDataset(raw, key, keyword, out)\n",
    "            keyword = 'summary_'\n",
    "            placed = placed | generateDataset(raw, key, keyword, out)\n",
    "            if not placed:\n",
    "                out.create_dataset(name = key, data=raw[key])\n",
    "        \n",
    "        "
   ]
  },
  {
   "cell_type": "code",
   "execution_count": null,
   "metadata": {},
   "outputs": [],
   "source": []
  }
 ],
 "metadata": {
  "kernelspec": {
   "display_name": "LCLS-II py3",
   "language": "python",
   "name": "ana2-current"
  },
  "language_info": {
   "codemirror_mode": {
    "name": "ipython",
    "version": 3
   },
   "file_extension": ".py",
   "mimetype": "text/x-python",
   "name": "python",
   "nbconvert_exporter": "python",
   "pygments_lexer": "ipython3",
   "version": "3.7.9"
  }
 },
 "nbformat": 4,
 "nbformat_minor": 2
}
