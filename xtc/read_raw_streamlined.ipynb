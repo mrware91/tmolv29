{
 "cells": [
  {
   "cell_type": "markdown",
   "metadata": {},
   "source": [
    "# Select the LCLS-II py3 kernel in the top right\n",
    "# Import libraries"
   ]
  },
  {
   "cell_type": "code",
   "execution_count": null,
   "metadata": {},
   "outputs": [],
   "source": [
    "import numpy as np\n",
    "import matplotlib.pyplot as plt\n",
    "import psana as ps"
   ]
  },
  {
   "cell_type": "markdown",
   "metadata": {},
   "source": [
    "# Specify experiment and run number. Then generate datasource"
   ]
  },
  {
   "cell_type": "code",
   "execution_count": null,
   "metadata": {},
   "outputs": [],
   "source": [
    "exp = 'tmolv2918'\n",
    "run_number = 215\n",
    "ds = ps.DataSource(exp=exp, run=run_number)\n",
    "run = next(ds.runs())"
   ]
  },
  {
   "cell_type": "markdown",
   "metadata": {},
   "source": [
    "# Specify the detectors and analyses to conduct shot-by-shot and let the TMOanalysis library handle the rest"
   ]
  },
  {
   "cell_type": "code",
   "execution_count": null,
   "metadata": {},
   "outputs": [],
   "source": [
    "detectors = {}\n",
    "# Fast detectors\n",
    "# detectors['sample']={'pskey':'timing', 'get':lambda det: det}\n",
    "detectors['evrs'] = {'pskey':'timing', 'get':lambda det: det.raw.eventcodes}\n",
    "detectors['tmo_atmopal']={'pskey':'tmo_atmopal', 'get':lambda det: det.raw.image}\n",
    "detectors['vls']={'pskey':'andor', 'get':lambda det: det.raw.value}\n",
    "detectors['gmd']={'pskey':'gmd', 'get':lambda det: det.raw.energy}\n",
    "detectors['hsd']={'pskey':'hsd', 'get':lambda det: det.raw.waveforms}\n",
    "detectors['photonEnergy']={'pskey':'ebeam', 'get':lambda det: det.raw.ebeamPhotonEnergy}\n",
    "\n",
    "# Important Epics\n",
    "detectors['vitaraDelay']={'pskey':'las_fs14_target_time', 'get':lambda det: det}"
   ]
  },
  {
   "cell_type": "code",
   "execution_count": null,
   "metadata": {},
   "outputs": [],
   "source": [
    "# Analysis is of form {analysisKey: {'function': analysisFunction(), 'detectorKey': 'key', 'analyzeEvery':1}}\n",
    "# Function element is optional. If not provided, raw data is returned.\n",
    "analysis = {}\n",
    "analysis['vitaraDelay'] = {'function':lambda x: x, 'detectorKey':'vitaraDelay'}\n",
    "analysis['evrs'] = {'detectorKey':'evrs'}\n",
    "analysis['vls1D'] = {'function': lambda x: np.sum(x,-1), 'detectorKey':'vls'}\n",
    "analysis['pulseEnergy'] = {'detectorKey':'gmd'}\n",
    "analysis['photonEnergy'] = {'detectorKey':'photonEnergy'}\n",
    "analysis['wfTime'] = {'function': lambda x: x[0]['times'], 'detectorKey':'hsd'}\n",
    "\n",
    "resample = lambda x, rebin_factor: x.reshape(-1, rebin_factor).mean(1)\n",
    "analysis['itof-time'] = {'function': lambda x: resample(x[0]['times'],10), 'detectorKey':'hsd'}\n",
    "analysis['itof-waveform'] = {'function': lambda x: resample(x[0][0],10), 'detectorKey':'hsd'}\n",
    "analysis['diode-waveform'] = {'function': lambda x: x[9][0].astype(float)[:5000], 'detectorKey':'hsd'}\n",
    "\n",
    "analysis['atm-proj1'] =  {'function': lambda x: np.sum(x[360:500,:],axis=0), 'detectorKey':'tmo_atmopal'}\n",
    "analysis['atm-proj2'] =  {'function': lambda x: np.sum(x[0:240,:],axis=0), 'detectorKey':'tmo_atmopal'}\n",
    "analysis['atm-proj3'] =  {'function': lambda x: np.sum(x[240:360,:],axis=0), 'detectorKey':'tmo_atmopal'}"
   ]
  },
  {
   "cell_type": "code",
   "execution_count": null,
   "metadata": {},
   "outputs": [],
   "source": [
    "import data\n",
    "import loop\n",
    "fastData, epicsData = data.XTCReader(exp=exp,\n",
    "               run=run_number,\n",
    "               detectors=detectors,\n",
    "               analysisDict=analysis,\n",
    "               nread=1,\n",
    "               loopStyle=lambda itr: loop.timeIt(itr, printEverySec=1))   "
   ]
  },
  {
   "cell_type": "markdown",
   "metadata": {},
   "source": [
    "# Example plots and analyses\n",
    "## Histogram of pulse energies"
   ]
  },
  {
   "cell_type": "code",
   "execution_count": null,
   "metadata": {},
   "outputs": [],
   "source": [
    "fastData['atm-proj1'].shape"
   ]
  },
  {
   "cell_type": "code",
   "execution_count": null,
   "metadata": {},
   "outputs": [],
   "source": [
    "plt.hist(fastData['pulseEnergy'] * 1e3, bins=20);\n",
    "plt.xlabel(\"Pulse energy / uJ\");"
   ]
  },
  {
   "cell_type": "markdown",
   "metadata": {},
   "source": [
    "## TOF traces"
   ]
  },
  {
   "cell_type": "code",
   "execution_count": null,
   "metadata": {},
   "outputs": [],
   "source": [
    "gas_on = fastData['evrs'][:,70]==1\n",
    "gas_off = np.logical_not(gas_on)\n",
    "\n",
    "t = fastData['itof-time'][0,:]\n",
    "plt.plot(t, fastData['itof-waveform'][gas_on].mean(0), 'k', label='Jet on');\n",
    "plt.plot(t, fastData['itof-waveform'][gas_off].mean(0), 'r', alpha=0.5, label='Jet off');\n",
    "plt.title(\"ion TOF traces\");\n",
    "plt.legend()\n",
    "plt.xlabel(\"ToF / us\")"
   ]
  },
  {
   "cell_type": "markdown",
   "metadata": {},
   "source": [
    "# Print detectors available in this (exp, run)\n",
    "Fast detectors. Make a measurement every shot"
   ]
  },
  {
   "cell_type": "code",
   "execution_count": null,
   "metadata": {},
   "outputs": [],
   "source": [
    "run.detnames"
   ]
  },
  {
   "cell_type": "markdown",
   "metadata": {},
   "source": [
    "# Print epics detectors available\n",
    "These are slow detectors. While they write a value for every event, they do not update at 120Hz."
   ]
  },
  {
   "cell_type": "code",
   "execution_count": null,
   "metadata": {},
   "outputs": [],
   "source": [
    "def getEpics(run):\n",
    "    epicsNames = []\n",
    "    for key in run.epicsinfo:\n",
    "        epicsNames.append( key[0] )\n",
    "    return epicsNames"
   ]
  },
  {
   "cell_type": "code",
   "execution_count": null,
   "metadata": {},
   "outputs": [],
   "source": [
    "getEpics(run)"
   ]
  },
  {
   "cell_type": "markdown",
   "metadata": {},
   "source": [
    "# Test data access for a detector\n",
    "Use a test evt to see what the detector object returns\n",
    "Many of the detectors call functions are undocumented. Try typing '<Detector Obj>.' then pressing tab to determine the call function. For example,\n",
    "```python\n",
    "gmd.[tab]\n",
    "gmd.raw.[tab]\n",
    "gmd.raw.energy\n",
    "help(gmd.raw.energy)\n",
    "```\n",
    "shows you that the xray pulse energy may be read by `gmd.raw.energy(evt0)`"
   ]
  },
  {
   "cell_type": "code",
   "execution_count": null,
   "metadata": {},
   "outputs": [],
   "source": [
    "evt0=next( run.events() )"
   ]
  },
  {
   "cell_type": "code",
   "execution_count": null,
   "metadata": {},
   "outputs": [],
   "source": [
    "gmd = run.Detector('gmd') # xray pulse energy monitor"
   ]
  },
  {
   "cell_type": "code",
   "execution_count": null,
   "metadata": {},
   "outputs": [],
   "source": [
    "help(gmd.raw.energy)"
   ]
  },
  {
   "cell_type": "code",
   "execution_count": null,
   "metadata": {},
   "outputs": [],
   "source": [
    "gmd.raw.energy(evt0)"
   ]
  }
 ],
 "metadata": {
  "kernelspec": {
   "display_name": "LCLS-II py3",
   "language": "python",
   "name": "ana2-current"
  },
  "language_info": {
   "codemirror_mode": {
    "name": "ipython",
    "version": 3
   },
   "file_extension": ".py",
   "mimetype": "text/x-python",
   "name": "python",
   "nbconvert_exporter": "python",
   "pygments_lexer": "ipython3",
   "version": "3.7.9"
  }
 },
 "nbformat": 4,
 "nbformat_minor": 2
}
