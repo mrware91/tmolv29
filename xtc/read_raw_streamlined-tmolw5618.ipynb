{
 "cells": [
  {
   "cell_type": "markdown",
   "metadata": {},
   "source": [
    "# Select the LCLS-II py3 kernel in the top right\n",
    "# Import libraries"
   ]
  },
  {
   "cell_type": "code",
   "execution_count": null,
   "metadata": {},
   "outputs": [],
   "source": [
    "import numpy as np\n",
    "import matplotlib.pyplot as plt\n",
    "import psana as ps"
   ]
  },
  {
   "cell_type": "markdown",
   "metadata": {},
   "source": [
    "# Specify experiment and run number. Then generate datasource"
   ]
  },
  {
   "cell_type": "code",
   "execution_count": null,
   "metadata": {},
   "outputs": [],
   "source": [
    "exp = 'tmolv2918'\n",
    "run_number = 215\n",
    "# exp = 'tmoc00118'\n",
    "# run_number = 333\n",
    "ds = ps.DataSource(exp=exp, run=run_number)\n",
    "run = next(ds.runs())"
   ]
  },
  {
   "cell_type": "markdown",
   "metadata": {},
   "source": [
    "# Specify the detectors and analyses to conduct shot-by-shot and let the TMOanalysis library handle the rest"
   ]
  },
  {
   "cell_type": "code",
   "execution_count": null,
   "metadata": {},
   "outputs": [],
   "source": [
    "detectors = {}\n",
    "# Fast detectors\n",
    "# detectors['sample']={'pskey':'timing', 'get':lambda det: det}\n",
    "detectors['evrs'] = {'pskey':'timing', 'get':lambda det: det.raw.eventcodes}\n",
    "detectors['vls']={'pskey':'andor', 'get':lambda det: det.raw.value}\n",
    "detectors['gmd']={'pskey':'gmd', 'get':lambda det: det.raw.energy}\n",
    "detectors['xgmd']={'pskey':'xgmd', 'get':lambda det: det.raw.energy}\n",
    "detectors['hsd']={'pskey':'hsd', 'get':lambda det: det.raw.waveforms}\n",
    "\n",
    "# Timetool\n",
    "detectors['tmo_atmopal']={'pskey':'tmo_atmopal', 'get':lambda det: det.raw.image}\n",
    "detectors['ttfltpos']={'pskey':'tmo_atmopal', 'get':lambda det: det.ttfex.fltpos}\n",
    "detectors['ttfltposfwhm']={'pskey':'tmo_atmopal', 'get':lambda det: det.ttfex.fltposfwhm}\n",
    "detectors['ttampl']={'pskey':'tmo_atmopal', 'get':lambda det: det.ttfex.ampl}\n",
    "\n",
    "# Ebeam parameters\n",
    "detectors['photonEnergy']={'pskey':'ebeam', 'get':lambda det: det.raw.ebeamPhotonEnergy}\n",
    "detectors['ebeamCharge']={'pskey':'ebeam', 'get':lambda det: det.raw.ebeamCharge}\n",
    "detectors['ebeamDumpCharge']={'pskey':'ebeam', 'get':lambda det: det.raw.ebeamDumpCharge}\n",
    "detectors['ebeamEnergyBC1']={'pskey':'ebeam', 'get':lambda det: det.raw.ebeamEnergyBC1}\n",
    "detectors['ebeamEnergyBC2']={'pskey':'ebeam', 'get':lambda det: det.raw.ebeamEnergyBC2}\n",
    "detectors['ebeamL3Energy']={'pskey':'ebeam', 'get':lambda det: det.raw.ebeamL3Energy}\n",
    "detectors['ebeamLTU250']={'pskey':'ebeam', 'get':lambda det: det.raw.ebeamLTU250}\n",
    "detectors['ebeamLTU450']={'pskey':'ebeam', 'get':lambda det: det.raw.ebeamLTU450}\n",
    "detectors['ebeamLTUAngY']={'pskey':'ebeam', 'get':lambda det: det.raw.ebeamLTUAngY}\n",
    "detectors['ebeamLTUPosX']={'pskey':'ebeam', 'get':lambda det: det.raw.ebeamLTUPosX}\n",
    "detectors['ebeamLTUPosY']={'pskey':'ebeam', 'get':lambda det: det.raw.ebeamLTUPosY}\n",
    "detectors['ebeamLUTAngX']={'pskey':'ebeam', 'get':lambda det: det.raw.ebeamLUTAngX}\n",
    "detectors['ebeamPkCurrBC1']={'pskey':'ebeam', 'get':lambda det: det.raw.ebeamPkCurrBC1}\n",
    "detectors['ebeamPkCurrBC2']={'pskey':'ebeam', 'get':lambda det: det.raw.ebeamPkCurrBC2}\n",
    "detectors['ebeamUndAngX']={'pskey':'ebeam', 'get':lambda det: det.raw.ebeamUndAngX}\n",
    "detectors['ebeamUndAngY']={'pskey':'ebeam', 'get':lambda det: det.raw.ebeamUndAngY}\n",
    "detectors['ebeamUndPosX']={'pskey':'ebeam', 'get':lambda det: det.raw.ebeamUndPosX}\n",
    "detectors['ebeamUndPosY']={'pskey':'ebeam', 'get':lambda det: det.raw.ebeamUndPosY}\n",
    "detectors['ebeamXTCAVAmpl']={'pskey':'ebeam', 'get':lambda det: det.raw.ebeamXTCAVAmpl}\n",
    "detectors['ebeamXTCAVPhase']={'pskey':'ebeam', 'get':lambda det: det.raw.ebeamXTCAVPhase}\n",
    "\n",
    "\n",
    "# Important Epics\n",
    "detectors['vitaraDelay']={'pskey':'las_fs14_target_time', 'get':lambda det: det}"
   ]
  },
  {
   "cell_type": "code",
   "execution_count": null,
   "metadata": {},
   "outputs": [],
   "source": [
    "from FFT_peakfinder import FFTfind_fixed\n",
    "# Analysis is of form {analysisKey: {'function': analysisFunction(), 'detectorKey': 'key', 'analyzeEvery':1}}\n",
    "# Function element is optional. If not provided, raw data is returned.\n",
    "analysis = {}\n",
    "analysis['vitaraDelay'] = {'function':lambda x: x, 'detectorKey':'vitaraDelay'}\n",
    "analysis['evrs'] = {'detectorKey':'evrs'}\n",
    "analysis['vls1D'] = {'function': lambda x: x, 'detectorKey':'vls'}\n",
    "analysis['pulseEnergy-gmd'] = {'detectorKey':'gmd'}\n",
    "analysis['pulseEnergy-xgmd'] = {'detectorKey':'xgmd'}\n",
    "analysis['photonEnergy'] = {'detectorKey':'photonEnergy'}\n",
    "\n",
    "analysis['ttfltpos']={'detectorKey':'ttfltpos'}\n",
    "analysis['ttfltposfwhm']={'detectorKey':'ttfltposfwhm'}\n",
    "analysis['ttampl']={'detectorKey':'ttampl'}\n",
    "\n",
    "\n",
    "analysis['ebeamCharge']={'detectorKey':'ebeamCharge'}\n",
    "analysis['ebeamDumpCharge']={'detectorKey':'ebeamDumpCharge'}\n",
    "analysis['ebeamEnergyBC1']={'detectorKey':'ebeamEnergyBC1'}\n",
    "analysis['ebeamEnergyBC2']={'detectorKey':'ebeamEnergyBC2'}\n",
    "analysis['ebeamL3Energy']={'detectorKey':'ebeamL3Energy'}\n",
    "analysis['ebeamLTU250']={'detectorKey':'ebeamLTU250'}\n",
    "analysis['ebeamLTU450']={'detectorKey':'ebeamLTU450'}\n",
    "analysis['ebeamLTUAngY']={'detectorKey':'ebeamLTUAngY'}\n",
    "analysis['ebeamLTUPosX']={'detectorKey':'ebeamLTUPosX'}\n",
    "analysis['ebeamLTUPosY']={'detectorKey':'ebeamLTUPosY'}\n",
    "analysis['ebeamLUTAngX']={'detectorKey':'ebeamLUTAngX'}\n",
    "analysis['ebeamPkCurrBC1']={'detectorKey':'ebeamPkCurrBC1'}\n",
    "analysis['ebeamPkCurrBC2']={'detectorKey':'ebeamPkCurrBC2'}\n",
    "analysis['ebeamUndAngX']={'detectorKey':'ebeamUndAngX'}\n",
    "analysis['ebeamUndAngY']={'detectorKey':'ebeamUndAngY'}\n",
    "analysis['ebeamUndPosX']={'detectorKey':'ebeamUndPosX'}\n",
    "analysis['ebeamUndPosY']={'detectorKey':'ebeamUndPosY'}\n",
    "analysis['ebeamXTCAVAmpl']={'detectorKey':'ebeamXTCAVAmpl'}\n",
    "analysis['ebeamXTCAVPhase']={'detectorKey':'ebeamXTCAVPhase'}\n",
    "\n",
    "\n",
    "def cfd(x, y, pixel_shift=int(2e0), threshold=7):\n",
    "    # Simple Constant Fraction Discriminator for hit finding\n",
    "#     pixel_shift = int(shift / np.diff(x).mean() / 2)\n",
    "    # print(pixel_shift)\n",
    "    y1, y2 = y[:-2*pixel_shift], y[2*pixel_shift:]\n",
    "    x_, y_ = x[pixel_shift:-pixel_shift], y[pixel_shift:-pixel_shift]\n",
    "    y3 = y1 - y2\n",
    "#     peak_idx = np.where((y3[:-1]>0)&(y3[1:]<=0)&(y3[:-1]>threshold))[0]\n",
    "    peak_idx = np.where((y3[:-1]>threshold)&(y3[1:]<=threshold))[0]\n",
    "\n",
    "#     times, amplitudes = x_[:-1][peak_idx], y_[:-1][peak_idx]\n",
    "    times, amplitudes = x_[1:][peak_idx], y_[1:][peak_idx]\n",
    "    if len(times)==0:\n",
    "        return [], []\n",
    "    else:\n",
    "        return times, amplitudes\n",
    "def fix_wf_baseline(hsd_in, bgfrom=500*64):\n",
    "    hsd_out = np.copy(hsd_in)\n",
    "    for i in range(4):\n",
    "        hsd_out[i::4] -= hsd_out[bgfrom+i::4].mean()\n",
    "    for i in (12, 13, 12+32, 12+32):\n",
    "        hsd_out[i::64] -= hsd_out[bgfrom+i::64].mean()\n",
    "    return hsd_out\n",
    "\n",
    "def cfdFixed(hsd,nmax=1000):\n",
    "    x= hsd[0]['times']\n",
    "    y= fix_wf_baseline(hsd[0][0].astype(float))\n",
    "    timesF = np.zeros(nmax)*np.nan\n",
    "    amplitudesF = np.zeros(nmax)*np.nan\n",
    "    times,amplitudes = cfd(x,y)\n",
    "    \n",
    "    if len(times) > 0:\n",
    "        timesF[:times.size] = times\n",
    "        amplitudesF[:times.size] = times\n",
    "    \n",
    "    return timesF, amplitudesF\n",
    "# FFTfind_fixed(hsd, nmax=1000)\n",
    "analysis['mb-hitfinder-t'] = {'function': lambda x: cfdFixed(x)[0]*1e6, 'detectorKey':'hsd'}\n",
    "analysis['mb-hitfinder-ampl'] = {'function': lambda x: cfdFixed(x)[1], 'detectorKey':'hsd'}\n",
    "analysis['mb-FFT-hitfinder-t'] = {'function': lambda x: FFTfind_fixed(x)[0]*1e6, 'detectorKey':'hsd'}\n",
    "analysis['mb-FFT-hitfinder-ampl'] = {'function': lambda x: FFTfind_fixed(x)[1], 'detectorKey':'hsd'}\n",
    "\n",
    "analysis['mb-time-subset'] = {'function': lambda x: x[0]['times'].astype(float)[:10000]*1e6, 'detectorKey':'hsd'}\n",
    "analysis['mb-waveform-subset'] = {'function': lambda x: fix_wf_baseline(x[0][0].astype(float))[:10000], 'detectorKey':'hsd'}\n",
    "\n",
    "resample = lambda x, rebin_factor: x.reshape(-1, rebin_factor).mean(1)\n",
    "analysis['mb-time-downsample'] = {'function': lambda x: resample(x[0]['times'],10), 'detectorKey':'hsd'}\n",
    "analysis['mb-waveform-downsample'] = {'function': lambda x: resample(x[0][0],10), 'detectorKey':'hsd'}\n",
    "analysis['diode-waveform-subset'] = {'function': lambda x: x[9][0].astype(float)[:5000], 'detectorKey':'hsd'}\n",
    "analysis['diode-time-subset'] = {'function': lambda x: x[9]['times'].astype(float)[:5000], 'detectorKey':'hsd'}\n",
    "analysis['diode-waveform-downsample'] = {'function': lambda x: resample(x[9][0],10), 'detectorKey':'hsd'}\n",
    "analysis['diode-time-downsample'] = {'function': lambda x: resample(x[9]['times'],10), 'detectorKey':'hsd'}\n",
    "\n",
    "analysis['atm-proj1'] =  {'function': lambda x: np.sum(x[360:500,:],axis=0), 'detectorKey':'tmo_atmopal'}\n",
    "analysis['atm-proj2'] =  {'function': lambda x: np.sum(x[0:240,:],axis=0), 'detectorKey':'tmo_atmopal'}\n",
    "analysis['atm-proj3'] =  {'function': lambda x: np.sum(x[240:360,:],axis=0), 'detectorKey':'tmo_atmopal'}"
   ]
  },
  {
   "cell_type": "code",
   "execution_count": null,
   "metadata": {},
   "outputs": [],
   "source": [
    "import data\n",
    "import loop\n",
    "fastData, epicsData = data.XTCReader(exp=exp,\n",
    "               run=run_number,\n",
    "               detectors=detectors,\n",
    "               analysisDict=analysis,\n",
    "               nread=10,\n",
    "               loopStyle=lambda itr: loop.timeIt(itr, printEverySec=1))   "
   ]
  },
  {
   "cell_type": "markdown",
   "metadata": {},
   "source": [
    "# Example plots and analyses\n",
    "## Histogram of pulse energies"
   ]
  },
  {
   "cell_type": "code",
   "execution_count": null,
   "metadata": {},
   "outputs": [],
   "source": [
    "fastData['atm-proj1'].shape"
   ]
  },
  {
   "cell_type": "code",
   "execution_count": null,
   "metadata": {},
   "outputs": [],
   "source": [
    "plt.hist(fastData['pulseEnergy'] * 1e3, bins=20);\n",
    "plt.xlabel(\"Pulse energy / uJ\");"
   ]
  },
  {
   "cell_type": "markdown",
   "metadata": {},
   "source": [
    "## TOF traces"
   ]
  },
  {
   "cell_type": "code",
   "execution_count": null,
   "metadata": {},
   "outputs": [],
   "source": [
    "gas_on = fastData['evrs'][:,70]==1\n",
    "gas_off = np.logical_not(gas_on)\n",
    "\n",
    "t = fastData['itof-time'][0,:]\n",
    "plt.plot(t, fastData['itof-waveform'][gas_on].mean(0), 'k', label='Jet on');\n",
    "plt.plot(t, fastData['itof-waveform'][gas_off].mean(0), 'r', alpha=0.5, label='Jet off');\n",
    "plt.title(\"ion TOF traces\");\n",
    "plt.legend()\n",
    "plt.xlabel(\"ToF / us\")"
   ]
  },
  {
   "cell_type": "markdown",
   "metadata": {},
   "source": [
    "# Print detectors available in this (exp, run)\n",
    "Fast detectors. Make a measurement every shot"
   ]
  },
  {
   "cell_type": "code",
   "execution_count": null,
   "metadata": {},
   "outputs": [],
   "source": [
    "run.detnames"
   ]
  },
  {
   "cell_type": "markdown",
   "metadata": {},
   "source": [
    "# Print epics detectors available\n",
    "These are slow detectors. While they write a value for every event, they do not update at 120Hz."
   ]
  },
  {
   "cell_type": "code",
   "execution_count": null,
   "metadata": {},
   "outputs": [],
   "source": [
    "def getEpics(run):\n",
    "    epicsNames = []\n",
    "    for key in run.epicsinfo:\n",
    "        epicsNames.append( key[0] )\n",
    "    return epicsNames"
   ]
  },
  {
   "cell_type": "code",
   "execution_count": null,
   "metadata": {},
   "outputs": [],
   "source": [
    "getEpics(run)"
   ]
  },
  {
   "cell_type": "markdown",
   "metadata": {},
   "source": [
    "# Test data access for a detector\n",
    "Use a test evt to see what the detector object returns\n",
    "Many of the detectors call functions are undocumented. Try typing '<Detector Obj>.' then pressing tab to determine the call function. For example,\n",
    "```python\n",
    "gmd.[tab]\n",
    "gmd.raw.[tab]\n",
    "gmd.raw.energy\n",
    "help(gmd.raw.energy)\n",
    "```\n",
    "shows you that the xray pulse energy may be read by `gmd.raw.energy(evt0)`"
   ]
  },
  {
   "cell_type": "code",
   "execution_count": null,
   "metadata": {},
   "outputs": [],
   "source": [
    "evt0=next( run.events() )"
   ]
  },
  {
   "cell_type": "code",
   "execution_count": null,
   "metadata": {},
   "outputs": [],
   "source": [
    "gmd = run.Detector('gmd') # xray pulse energy monitor"
   ]
  },
  {
   "cell_type": "code",
   "execution_count": null,
   "metadata": {},
   "outputs": [],
   "source": [
    "help(gmd.raw.energy)"
   ]
  },
  {
   "cell_type": "code",
   "execution_count": null,
   "metadata": {},
   "outputs": [],
   "source": [
    "gmd.raw.energy(evt0)"
   ]
  },
  {
   "cell_type": "code",
   "execution_count": null,
   "metadata": {},
   "outputs": [],
   "source": [
    "ebeam = run.Detector('ebeam')"
   ]
  },
  {
   "cell_type": "code",
   "execution_count": null,
   "metadata": {},
   "outputs": [],
   "source": [
    "ebeam.raw."
   ]
  }
 ],
 "metadata": {
  "kernelspec": {
   "display_name": "LCLS-II py3",
   "language": "python",
   "name": "ana2-current"
  },
  "language_info": {
   "codemirror_mode": {
    "name": "ipython",
    "version": 3
   },
   "file_extension": ".py",
   "mimetype": "text/x-python",
   "name": "python",
   "nbconvert_exporter": "python",
   "pygments_lexer": "ipython3",
   "version": "3.7.10"
  }
 },
 "nbformat": 4,
 "nbformat_minor": 2
}
