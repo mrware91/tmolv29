{
 "cells": [
  {
   "cell_type": "markdown",
   "metadata": {},
   "source": [
    "# Select the LCLS-II py3 kernel in the top right\n",
    "# Import libraries"
   ]
  },
  {
   "cell_type": "code",
   "execution_count": null,
   "metadata": {},
   "outputs": [],
   "source": [
    "import numpy as np\n",
    "import matplotlib.pyplot as plt\n",
    "import psana as ps"
   ]
  },
  {
   "cell_type": "markdown",
   "metadata": {},
   "source": [
    "# Specify experiment and run number. Then generate datasource"
   ]
  },
  {
   "cell_type": "code",
   "execution_count": null,
   "metadata": {},
   "outputs": [],
   "source": [
    "exp = 'tmolv2918'\n",
    "run_number = 215\n",
    "ds = ps.DataSource(exp=exp, run=run_number)\n",
    "run = next(ds.runs())"
   ]
  },
  {
   "cell_type": "markdown",
   "metadata": {},
   "source": [
    "# Print detectors available in this (exp, run)\n",
    "Fast detectors. Make a measurement every shot"
   ]
  },
  {
   "cell_type": "code",
   "execution_count": null,
   "metadata": {},
   "outputs": [],
   "source": [
    "run.detnames"
   ]
  },
  {
   "cell_type": "markdown",
   "metadata": {},
   "source": [
    "# Print epics detectors available\n",
    "These are slow detectors. While they write a value for every event, they do not update at 120Hz."
   ]
  },
  {
   "cell_type": "code",
   "execution_count": null,
   "metadata": {},
   "outputs": [],
   "source": [
    "run.epicsinfo"
   ]
  },
  {
   "cell_type": "markdown",
   "metadata": {},
   "source": [
    "# Initialize detector objects to read out shot by shot measuremnets"
   ]
  },
  {
   "cell_type": "code",
   "execution_count": null,
   "metadata": {},
   "outputs": [],
   "source": [
    "gmd = run.Detector('gmd') # xray pulse energy monitor\n",
    "timing = run.Detector('timing') # event codes\n",
    "opal = run.Detector('tmo_atmopal') # timetool\n",
    "hsd = run.Detector('hsd') # ion tof\n",
    "ebeam = run.Detector('ebeam') # ebeam parameters\n",
    "und42K = run.Detector('UND_39_k')"
   ]
  },
  {
   "cell_type": "markdown",
   "metadata": {},
   "source": [
    "# Test data access for a detector\n",
    "Use a test evt to see what the detector object returns\n",
    "Many of the detectors call functions are undocumented. Try typing '<Detector Obj>.' then pressing tab to determine the call function. For example,\n",
    "```python\n",
    "gmd.[tab]\n",
    "gmd.raw.[tab]\n",
    "gmd.raw.energy\n",
    "help(gmd.raw.energy)\n",
    "```\n",
    "shows you that the xray pulse energy may be read by `gmd.raw.energy(evt0)`"
   ]
  },
  {
   "cell_type": "code",
   "execution_count": null,
   "metadata": {},
   "outputs": [],
   "source": [
    "evt0=next( run.events() )"
   ]
  },
  {
   "cell_type": "code",
   "execution_count": null,
   "metadata": {},
   "outputs": [],
   "source": [
    "help(gmd.raw.energy)"
   ]
  },
  {
   "cell_type": "code",
   "execution_count": null,
   "metadata": {},
   "outputs": [],
   "source": [
    "gmd.raw.energy(evt0)"
   ]
  },
  {
   "cell_type": "markdown",
   "metadata": {},
   "source": [
    "# Loop over events to read in data\n",
    "## This script provides an example of how to read in the detectors from the xtc files using the detector and run objects you've generated above. For a more streamlined approach, see read_raw_streamlined.ipynb\n",
    "\n",
    "nupdate := Specifies when to print out updates\n",
    "\n",
    "nskip := Loop skips events modulo nskip\n",
    "\n",
    "Nfind := Loop stops once this number of events is read out"
   ]
  },
  {
   "cell_type": "code",
   "execution_count": null,
   "metadata": {},
   "outputs": [],
   "source": [
    "# User specified inputs\n",
    "Nfind = 300\n",
    "nskip = 2\n",
    "nupdate = 50\n",
    "channel = 0 # ion ToF\n",
    "\n",
    "# Initialize arrays\n",
    "energies = np.empty(Nfind)\n",
    "photonEs = np.empty(Nfind)\n",
    "undKs = np.empty(Nfind)\n",
    "evrs = None\n",
    "t = None\n",
    "ims = None\n",
    "wfs = None\n",
    "\n",
    "# Event iteration\n",
    "Nfound = 0\n",
    "for nevent, event in enumerate(run.events()):\n",
    "    \n",
    "    if nevent%nupdate==0: print(nevent, Nfound)\n",
    "    if nevent%nskip!=0: continue\n",
    "    \n",
    "    undK = und42K(event)\n",
    "    if undK is None: continue\n",
    "    energy = gmd.raw.energy(event)\n",
    "    if energy is None:\n",
    "        print(\"Didn't find GMD\")\n",
    "        continue\n",
    "    evr = timing.raw.eventcodes(event)\n",
    "    if evr is None:\n",
    "        print(\"Didn't find EVR\")\n",
    "        continue\n",
    "    im = opal.raw.image(event)\n",
    "    if im is None:\n",
    "        print(\"Didn't find Opal\")\n",
    "        continue\n",
    "    hsd_data = hsd.raw.waveforms(event)\n",
    "    if hsd_data is None:\n",
    "        print(\"Didn't find HSD\")\n",
    "        continue\n",
    "    photonE = ebeam.raw.ebeamPhotonEnergy(event)\n",
    "    if photonE is None:\n",
    "        print(\"Didn't find photon energy\")\n",
    "        continue\n",
    "    \n",
    "    energies[Nfound] = energy\n",
    "    photonEs[Nfound] = photonE\n",
    "    undKs[Nfound] = undK\n",
    "    \n",
    "    if evrs is None:\n",
    "        evrs = np.empty((Nfind, len(evr)))\n",
    "    evrs[Nfound] = evr\n",
    "    \n",
    "    if t is None:\n",
    "        t = hsd_data[channel]['times'][::4] * 1e6\n",
    "        wfs = np.empty((Nfind, len(t)))\n",
    "    wfs[Nfound] = hsd_data[channel][0][::4]\n",
    "    \n",
    "    if ims is None:\n",
    "        ims = np.empty((Nfind,)+im.shape)\n",
    "    ims[Nfound] = im\n",
    "    \n",
    "    Nfound += 1\n",
    "    if Nfound==Nfind: break"
   ]
  },
  {
   "cell_type": "markdown",
   "metadata": {},
   "source": [
    "# Example plots and analyses\n",
    "## Histogram of pulse energies"
   ]
  },
  {
   "cell_type": "code",
   "execution_count": null,
   "metadata": {},
   "outputs": [],
   "source": [
    "plt.hist(energies * 1e3, bins=20);\n",
    "plt.xlabel(\"Pulse energy / uJ\");"
   ]
  },
  {
   "cell_type": "markdown",
   "metadata": {},
   "source": [
    "## Averaged OPAL image"
   ]
  },
  {
   "cell_type": "code",
   "execution_count": null,
   "metadata": {},
   "outputs": [],
   "source": [
    "plt.imshow(ims.mean(0))\n",
    "plt.colorbar()\n",
    "plt.title(\"Averaged OPAL image\");"
   ]
  },
  {
   "cell_type": "markdown",
   "metadata": {},
   "source": [
    "## TOF traces"
   ]
  },
  {
   "cell_type": "code",
   "execution_count": null,
   "metadata": {},
   "outputs": [],
   "source": [
    "gas_on = evrs[:,70]==1\n",
    "gas_off = np.logical_not(gas_on)\n",
    "\n",
    "plt.plot(t, wfs[gas_on].mean(0), 'k', label='Jet on');\n",
    "plt.plot(t, wfs[gas_off].mean(0), 'r', alpha=0.5, label='Jet off');\n",
    "plt.title(\"5 ion TOF traces\");\n",
    "plt.legend()\n",
    "plt.xlabel(\"ToF / us\")"
   ]
  },
  {
   "cell_type": "code",
   "execution_count": null,
   "metadata": {},
   "outputs": [],
   "source": []
  }
 ],
 "metadata": {
  "kernelspec": {
   "display_name": "LCLS-II py3",
   "language": "python",
   "name": "ana2-current"
  },
  "language_info": {
   "codemirror_mode": {
    "name": "ipython",
    "version": 3
   },
   "file_extension": ".py",
   "mimetype": "text/x-python",
   "name": "python",
   "nbconvert_exporter": "python",
   "pygments_lexer": "ipython3",
   "version": "3.7.9"
  }
 },
 "nbformat": 4,
 "nbformat_minor": 2
}
