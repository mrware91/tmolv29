{
 "cells": [
  {
   "cell_type": "markdown",
   "metadata": {},
   "source": [
    "# Select the LCLS-II py3 kernel in the top right\n",
    "# Import libraries"
   ]
  },
  {
   "cell_type": "code",
   "execution_count": null,
   "metadata": {},
   "outputs": [],
   "source": [
    "import numpy as np\n",
    "import matplotlib.pyplot as plt\n",
    "import psana as ps"
   ]
  },
  {
   "cell_type": "markdown",
   "metadata": {},
   "source": [
    "# Specifiy run"
   ]
  },
  {
   "cell_type": "code",
   "execution_count": null,
   "metadata": {},
   "outputs": [],
   "source": [
    "exp = 'tmolv2918'#the experiment\n",
    "run_number = 122 # the run within an experiment\n",
    "ds = ps.DataSource(exp=exp, run=run_number)\n",
    "run = next(ds.runs())"
   ]
  },
  {
   "cell_type": "code",
   "execution_count": null,
   "metadata": {},
   "outputs": [],
   "source": [
    "print(run.detnames)"
   ]
  },
  {
   "cell_type": "markdown",
   "metadata": {},
   "source": [
    "# specify detector objects"
   ]
  },
  {
   "cell_type": "code",
   "execution_count": null,
   "metadata": {},
   "outputs": [],
   "source": [
    "andor = run.Detector('andor')\n",
    "gmd = run.Detector('gmd') # gmd before the attenuator\n",
    "xgmd = run.Detector('xgmd') # gmd after the attenuator\n",
    "timing = run.Detector('timing') \n",
    "hsd = run.Detector('hsd') # ion tof, Ktof and so on\n",
    "ebeam = run.Detector('ebeam')# this gives the mean photon energy, is a data extracted from the electron beam \n",
    "und42K = run.Detector('UND_39_k')\n",
    "epics_var = run.Detector('epicsinfo')"
   ]
  },
  {
   "cell_type": "markdown",
   "metadata": {},
   "source": [
    "# load some data"
   ]
  },
  {
   "cell_type": "code",
   "execution_count": null,
   "metadata": {},
   "outputs": [],
   "source": [
    "# User specified inputs\n",
    "\n",
    "loadImages='false' #if this is false then no images will be read (to save memory)\n",
    "\n",
    "Nfind = 2000\n",
    "nskip = 1\n",
    "nupdate = 100\n",
    "channelItof = 0 # ion ToF\n",
    "channelKtof = 6 # channel for the Ktof\n",
    "channelLaser = 9# according to Matt that is the ADC channel for the laser diode at the outcoupling port\n",
    "\n",
    "# Initialize arrays\n",
    "energies = np.empty(Nfind) #gmd\n",
    "xenergies = np.empty(Nfind) #xgmd\n",
    "\n",
    "photonEs = np.empty(Nfind)\n",
    "undKs = np.empty(Nfind)\n",
    "delays = np.empty(Nfind)\n",
    "evrs = None\n",
    "tItof = None #time axis\n",
    "tKtof = None#time axis\n",
    "laserDiode = None#time axis\n",
    "\n",
    "wfs = None\n",
    "Ktof_spec = None\n",
    "laserDiodeArray=None\n",
    "andorArray = np.empty((Nfind, 2048))\n",
    "\n",
    "imsVMI = None\n",
    "imsTimeTool = None\n",
    "\n",
    "# Event iteration\n",
    "Nfound = 0\n",
    "for nevent, event in enumerate(run.events(),start=0):\n",
    "    \n",
    "    if nevent%nupdate==0: print(nevent, Nfound)\n",
    "    if nevent%nskip!=0: continue\n",
    "  \n",
    "    #undK = und42K(event)\n",
    "    #if undK is None: continue\n",
    "    energy = gmd.raw.energy(event)\n",
    "    if energy is None:\n",
    "        print(\"Didn't find GMD\")\n",
    "    #    continue\n",
    "    xenergy = xgmd.raw.energy(event)\n",
    "    if energy is None:\n",
    "        print(\"Didn't find GMD\")\n",
    "    #    continue\n",
    "    evr = timing.raw.eventcodes(event)\n",
    "    if evr is None:\n",
    "        print(\"Didn't find EVR\")\n",
    "        continue\n",
    "        \n",
    "    if loadImages=='true':\n",
    "        imVMI = opalVMI.raw.image(event)\n",
    "        if imVMI is None:\n",
    "            print(\"Didn't find Opal\")\n",
    "            continue\n",
    "        imTimeTool = opalTimeTool.raw.image(event)\n",
    "        if imTimeTool is None:\n",
    "            print(\"Didn't find Opal\")\n",
    "            continue\n",
    "            \n",
    "    andor_data=andor.raw.value(event)        \n",
    "    if andor_data is None:\n",
    "        print(\"Didn't find Andor\")\n",
    "        continue\n",
    "        \n",
    "    hsd_data = hsd.raw.waveforms(event)\n",
    "    if hsd_data is None:\n",
    "        print(\"Didn't find HSD\")\n",
    "    #    continue\n",
    "    photonE = ebeam.raw.ebeamPhotonEnergy(event)\n",
    "    if photonE is None:\n",
    "        print(\"Didn't find photon energy\")\n",
    "    #    continue\n",
    "    \n",
    "    energies[Nfound] = energy\n",
    "    xenergies[Nfound] = xenergy\n",
    "    photonEs[Nfound] = photonE\n",
    "    andorArray[Nfound]=andor_data.reshape((2048,))\n",
    "\n",
    "    \n",
    "    #undKs[Nfound] = undK\n",
    "    \n",
    "    if evrs is None:\n",
    "        evrs = np.empty((Nfind, len(evr)))\n",
    "    evrs[Nfound] = evr\n",
    "    \n",
    "    if tKtof is None:\n",
    "        tKtof = hsd_data[channelKtof]['times'][::4] * 1e6\n",
    "        Ktof_spec = np.empty((Nfind, len(tKtof)))\n",
    "    Ktof_spec[Nfound] = hsd_data[channelKtof][0][::4]\n",
    "    \n",
    "    \n",
    "    if laserDiode is None:\n",
    "        laserDiode = hsd_data[channelLaser]['times'][::4] * 1e6\n",
    "        laserDiodeArray = np.empty((Nfind, len(laserDiode)))\n",
    "    laserDiodeArray[Nfound] = hsd_data[channelLaser][0][::4]\n",
    "    \n",
    "    if tItof is None:\n",
    "        tItof = hsd_data[channelItof]['times'][::4] * 1e6\n",
    "        wfs = np.empty((Nfind, len(tItof)))\n",
    "    wfs[Nfound] = hsd_data[channelItof][0][::4]\n",
    "    \n",
    "    \n",
    "    if loadImages=='true':\n",
    "        if imsVMI is None:\n",
    "            imsVMI = np.empty((Nfind,)+imVMI.shape)\n",
    "        imsVMI[Nfound] = imVMI\n",
    "\n",
    "        if imsTimeTool is None:\n",
    "            imsTimeTool = np.empty((Nfind,)+imTimeTool.shape)\n",
    "        imsTimeTool[Nfound] = imTimeTool\n",
    "        \n",
    "        \n",
    "   # delays[Nfound]=delay(event) # reading the relative delay of UV and x-rays\n",
    "    \n",
    "    \n",
    "\n",
    "    \n",
    "    Nfound += 1\n",
    "  \n",
    "    if Nfound==Nfind: break"
   ]
  },
  {
   "cell_type": "markdown",
   "metadata": {},
   "source": [
    "# get some evrs"
   ]
  },
  {
   "cell_type": "code",
   "execution_count": null,
   "metadata": {},
   "outputs": [],
   "source": [
    "gas_on = evrs[:,70]==1\n",
    "gas_off = evrs[:,71]==1\n",
    "UV_on = evrs[:,67]==1\n",
    "UV_off = evrs[:,68]==1 #goose?\n",
    "Xray_off = evrs[:,161]==1 #BYKIK, makes the x-rays go off\n",
    "Xray_on = evrs[:,161]==0"
   ]
  },
  {
   "cell_type": "code",
   "execution_count": null,
   "metadata": {},
   "outputs": [],
   "source": [
    "for counter in range(500):\n",
    "    plt.plot(laserDiodeArray[counter][0:2000])"
   ]
  },
  {
   "cell_type": "markdown",
   "metadata": {},
   "source": [
    "determine background"
   ]
  },
  {
   "cell_type": "code",
   "execution_count": null,
   "metadata": {},
   "outputs": [],
   "source": [
    "backgroundArray= laserDiodeArray.mean(0)[2000:8000]\n",
    "background=backgroundArray.mean(0)\n",
    "laserDiodeArray=laserDiodeArray-background"
   ]
  },
  {
   "cell_type": "code",
   "execution_count": null,
   "metadata": {},
   "outputs": [],
   "source": [
    "\n",
    "plt.plot(laserDiode[0:1500],laserDiodeArray[UV_on].mean(0)[0:1500])\n",
    "plt.plot(laserDiode[0:1500],laserDiodeArray[UV_off].mean(0)[0:1500])\n",
    "plt.xlabel('time [ $\\mu$s]')\n",
    "plt.ylabel('Diode signal [arb.]')\n",
    "plt.title('means of diodes first 500 shots in run 160')\n",
    "plt.legend(['UV_on','UV_off - goose'])"
   ]
  },
  {
   "cell_type": "code",
   "execution_count": null,
   "metadata": {},
   "outputs": [],
   "source": [
    "\n",
    "plt.plot(laserDiode[0:1500],laserDiodeArray[UV_on].mean(0)[0:1500])\n",
    "plt.plot(laserDiode[0:1500],laserDiodeArray[UV_off].mean(0)[0:1500])\n",
    "plt.xlabel('time [ $\\mu$s]')\n",
    "plt.ylabel('Diode signal [arb.]')\n",
    "plt.title('means of diodes first 20000 shots in run'+str(run_number))\n",
    "plt.legend(['UV_on','UV_off - goose'])\n",
    "plt.xlim((0.2,0.3))"
   ]
  },
  {
   "cell_type": "markdown",
   "metadata": {},
   "source": [
    "# integration of diode signal"
   ]
  },
  {
   "cell_type": "code",
   "execution_count": null,
   "metadata": {},
   "outputs": [],
   "source": [
    "plt.plot(abs(laserDiodeArray[UV_on]).mean(0)[0:1500])\n",
    "plt.plot(abs(laserDiodeArray[UV_off]).mean(0)[0:1500])"
   ]
  },
  {
   "cell_type": "code",
   "execution_count": null,
   "metadata": {},
   "outputs": [],
   "source": [
    "lowerBound=200\n",
    "upperBound=1200\n",
    "\n",
    "UVint=np.zeros(Nfind)\n",
    "for counter in range(Nfind):\n",
    "    \n",
    "    UVint[counter]=np.sum(abs(laserDiodeArray[counter])[lowerBound:upperBound])"
   ]
  },
  {
   "cell_type": "code",
   "execution_count": null,
   "metadata": {},
   "outputs": [],
   "source": [
    "r=np.linspace(0,Nfind-1,Nfind)\n",
    "print(r[UV_on])"
   ]
  },
  {
   "cell_type": "code",
   "execution_count": null,
   "metadata": {},
   "outputs": [],
   "source": [
    "r=np.linspace(0,Nfind-1,Nfind)#simply an integer array\n",
    "plt.plot(r[UV_on],UVint[UV_on])\n",
    "plt.plot(r[UV_off],UVint[UV_off])\n",
    "plt.xlabel('shot')\n",
    "plt.ylabel('UV pulse energy [arb.]')\n",
    "plt.title('run '+str(run_number))\n",
    "plt.legend(['UV_on','UV_off - goose'])"
   ]
  },
  {
   "cell_type": "code",
   "execution_count": null,
   "metadata": {},
   "outputs": [],
   "source": [
    "plt.hist(UVint, bins=50)\n",
    "plt.xlabel(\"UV pulse energy [arb.]\")\n",
    "plt.ylabel('# shots in bin')\n",
    "plt.title('run'+str(run_number))"
   ]
  },
  {
   "cell_type": "code",
   "execution_count": null,
   "metadata": {},
   "outputs": [],
   "source": [
    "good=Xray_on & ~np.isnan(xenergies) & ~np.isnan(UVint)\n",
    "plt.hist2d(xenergies[good]*1000, UVint[good],bins=20);\n",
    "plt.title('run '+str(run_number))\n",
    "plt.xlabel('x-ray pulse energy [$\\mu$J]')\n",
    "plt.ylabel('UV pulse energy [arb.]')"
   ]
  },
  {
   "cell_type": "code",
   "execution_count": null,
   "metadata": {},
   "outputs": [],
   "source": [
    "xenergies[Xray_on]"
   ]
  },
  {
   "cell_type": "code",
   "execution_count": null,
   "metadata": {},
   "outputs": [],
   "source": []
  }
 ],
 "metadata": {
  "kernelspec": {
   "display_name": "LCLS-II py3",
   "language": "python",
   "name": "ana2-current"
  },
  "language_info": {
   "codemirror_mode": {
    "name": "ipython",
    "version": 3
   },
   "file_extension": ".py",
   "mimetype": "text/x-python",
   "name": "python",
   "nbconvert_exporter": "python",
   "pygments_lexer": "ipython3",
   "version": "3.7.9"
  }
 },
 "nbformat": 4,
 "nbformat_minor": 2
}
