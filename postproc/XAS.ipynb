{
 "cells": [
  {
   "cell_type": "code",
   "execution_count": null,
   "metadata": {},
   "outputs": [],
   "source": [
    "import numpy as np\n",
    "import matplotlib.pyplot as plt\n",
    "import psana as ps\n",
    "%matplotlib inline"
   ]
  },
  {
   "cell_type": "code",
   "execution_count": null,
   "metadata": {},
   "outputs": [],
   "source": [
    "from h5py import File\n",
    "from matplotlib.colors import LogNorm\n",
    "from scipy.ndimage.filters import gaussian_filter"
   ]
  },
  {
   "cell_type": "code",
   "execution_count": null,
   "metadata": {},
   "outputs": [],
   "source": [
    "from sys import path\n",
    "path.append('/cds/home/e/elio/modules/')\n",
    "from surf import surf"
   ]
  },
  {
   "cell_type": "code",
   "execution_count": null,
   "metadata": {},
   "outputs": [],
   "source": [
    "run = 185\n",
    "vers = 0\n",
    "raw = File(\"/reg/d/psdm/tmo/tmolv2918/scratch/elio/v%d/run%d_v%d.h5\" % (vers, run, vers), \"r\")\n",
    "raw['Nbad'][()], raw['Nfound'][()]"
   ]
  },
  {
   "cell_type": "code",
   "execution_count": null,
   "metadata": {},
   "outputs": [],
   "source": [
    "run = 231\n",
    "vers = 6\n",
    "raw = File(\"/reg/d/psdm/tmo/tmolv2918/scratch/preproc/v%d/run%d_v%d.h5\" % (vers, run, vers), \"r\")\n",
    "raw['Nbad'][()], raw['Nfound'][()]"
   ]
  },
  {
   "cell_type": "code",
   "execution_count": null,
   "metadata": {},
   "outputs": [],
   "source": [
    "\n",
    "\n",
    "order = raw['timestamp'][:].argsort()\n",
    "timestamps = raw['timestamp'][:][order]\n",
    "ts = (timestamps - timestamps.min()) * 1e-6 # in ms\n",
    "#wfs = raw['iToF_wf'][:][order]\n",
    "\n",
    "tflight = np.arange(13072) * 10 / 60 / 100\n",
    "t0 = 0.190\n",
    "A = (13.211 - t0)/np.sqrt(100)\n",
    "m_q = ((tflight - t0)/A)**2\n",
    "#mpks = np.array([12, 13, 14, 15, 27, 29, 31, 39, 41, 42, 43, 85, 100])\n",
    "\n",
    "#Ipk = np.zeros((len(mpks), len(order)))\n",
    "#for i, mpk, in enumerate(mpks):\n",
    "#    Ipk[i] = wfs[:,(mpk - 0.25 < m_q) & (m_q < mpk + 0.25)].mean(1)\n",
    "mpks = raw['mpks'][:]\n",
    "Ipk = raw['Ipk'][:][order]\n",
    "\n",
    "gmd = raw['gmd_energy'][:][order]\n",
    "xgmd = raw['xgmd_energy'][:][order]\n",
    "l3 = raw['ebeam_ebeamL3Energy'][:][order]\n",
    "\n",
    "even = raw['evrs'][:,41].astype(bool)[order]\n",
    "jet = raw['evrs'][:,70].astype(bool)[order]\n",
    "xray = ~raw['evrs'][:,161].astype(bool)[order]\n",
    "goose = raw['evrs'][:,68].astype(bool)[order]\n",
    "\n",
    "delay = raw['epics_las_fs14_target_time'][:][order]\n",
    "delays, delay_idx = np.unique(np.around(delay, 4), return_inverse=True)\n",
    "\n",
    "\n",
    "vls = raw['vls'][:][order]\n",
    "badvls = vls.mean(1) < -9000\n",
    "vls_ = gaussian_filter(vls, (0,0))\n",
    "vls_ -= np.median(vls_[~badvls].mean(0))\n",
    "vls_[vls_< 50] = 0\n",
    "CoM = (vls_ * np.arange(2048)).mean(1) / vls_.mean(1)\n",
    "\n",
    "good = (~np.isnan(CoM)) & (gmd > -0.5)"
   ]
  },
  {
   "cell_type": "code",
   "execution_count": null,
   "metadata": {},
   "outputs": [],
   "source": [
    "\n",
    "plt.plot(np.diff(timestamps[badvls])*1e-9)"
   ]
  },
  {
   "cell_type": "code",
   "execution_count": null,
   "metadata": {},
   "outputs": [],
   "source": [
    "\n",
    "plt.plot(vls_[:10000:1000].T)\n",
    "plt.plot(vls_.mean(0), 'k')\n",
    "#plt.xlim(1100, 1500)\n",
    "vls_low, vls_high = 1100, 1450\n",
    "plt.xlim(vls_low, vls_high)"
   ]
  },
  {
   "cell_type": "code",
   "execution_count": null,
   "metadata": {},
   "outputs": [],
   "source": [
    "plt.hist(gmd, bins=np.linspace(-0.1, 0.4, 300));"
   ]
  },
  {
   "cell_type": "code",
   "execution_count": null,
   "metadata": {},
   "outputs": [],
   "source": [
    "#a, b, c = plt.hist(vls_[:,1100:1500].mean(1), bins=200);\n",
    "#plt.hist(vls_[xray,1100:1500].mean(1), bins=b, histtype='step');\n",
    "plt.hist(vls_[~xray,1100:1500].mean(1), bins=1000, histtype='step');"
   ]
  },
  {
   "cell_type": "code",
   "execution_count": null,
   "metadata": {},
   "outputs": [],
   "source": [
    "mi = 43\n",
    "\n",
    "vls_low, vls_high = 0, 450\n",
    "plt.figure(figsize=(15,10))\n",
    "plt.subplot(3,2,1)\n",
    "plt.hist2d(l3[good], gmd[good], bins=200);\n",
    "plt.xlabel(\"L3\")\n",
    "plt.ylabel(\"GMD\")\n",
    "\n",
    "plt.subplot(3,2,2)\n",
    "plt.hist2d(l3[good], vls[good,vls_low:vls_high].mean(1), bins=200);\n",
    "plt.xlabel(\"L3\")\n",
    "plt.ylabel(\"VLS int.\")\n",
    "\n",
    "plt.subplot(3,2,3)\n",
    "plt.hist2d(gmd[good], vls[good,vls_low:vls_high].mean(1), bins=200);\n",
    "plt.xlabel(\"GMD\")\n",
    "plt.ylabel(\"VLS int.\")\n",
    "\n",
    "plt.subplot(3,2,4)\n",
    "plt.hist2d(l3[good&jet], Ipk[good&jet, np.abs(mpks-mi).argmin()], bins=200);\n",
    "plt.xlabel(\"L3\")\n",
    "plt.ylabel(\"Mass 43 int.\")\n",
    "\n",
    "plt.subplot(3,2,5)\n",
    "plt.hist2d(vls[good&jet, vls_low:vls_high].mean(1), Ipk[good&jet, np.abs(mpks-mi).argmin()], bins=200);\n",
    "plt.xlabel(\"VLS int.\")\n",
    "plt.ylabel(\"Mass 43 int.\")\n",
    "\n",
    "plt.subplot(3,2,6)\n",
    "plt.hist2d(gmd[good&jet], Ipk[good&jet, np.abs(mpks-mi).argmin()], bins=200);\n",
    "plt.xlabel(\"GMD\")\n",
    "plt.ylabel(\"Mass 43 int.\")\n",
    "#plt.xlim(1200, 1500)\n",
    "plt.tight_layout()"
   ]
  },
  {
   "cell_type": "code",
   "execution_count": null,
   "metadata": {},
   "outputs": [],
   "source": [
    "plt.hist2d(l3[good], vls[good,1100:1450].mean(1), bins=200);\n",
    "#plt.xlim(1100, 1500)\n",
    "#plt.ylim(304, 360)"
   ]
  },
  {
   "cell_type": "code",
   "execution_count": null,
   "metadata": {},
   "outputs": [],
   "source": [
    "vls.shape"
   ]
  },
  {
   "cell_type": "code",
   "execution_count": null,
   "metadata": {},
   "outputs": [],
   "source": [
    "plt.hist2d(gmd[good], vls[good,1100:1450].mean(1), bins=200);"
   ]
  },
  {
   "cell_type": "code",
   "execution_count": null,
   "metadata": {},
   "outputs": [],
   "source": [
    "plt.hist2d(CoM[good], l3[good], bins=200);"
   ]
  },
  {
   "cell_type": "code",
   "execution_count": null,
   "metadata": {},
   "outputs": [],
   "source": []
  },
  {
   "cell_type": "code",
   "execution_count": null,
   "metadata": {},
   "outputs": [],
   "source": [
    "plt.hist2d(vls[good, 1100:1450].mean(1), Ipk[np.abs(mpks-43).argmin(), good], bins=50);"
   ]
  },
  {
   "cell_type": "code",
   "execution_count": null,
   "metadata": {},
   "outputs": [],
   "source": [
    "plt.hist2d(gmd[good&jet], Ipk[np.abs(mpks-43).argmin(), good&jet], bins=50);"
   ]
  },
  {
   "cell_type": "code",
   "execution_count": null,
   "metadata": {},
   "outputs": [],
   "source": [
    "plt.hist2d(l3[good&jet], Ipk[good&jet, np.abs(mpks-43).argmin()], bins=50);"
   ]
  },
  {
   "cell_type": "code",
   "execution_count": null,
   "metadata": {},
   "outputs": [],
   "source": [
    "plt.figure(figsize=(20,4))\n",
    "index = 1\n",
    "nbins = 80\n",
    "filt =   (5690 < l3) & ~even\n",
    "#filt = (np.arange(len(gmd)) > len(gmd)*0.8) #& (1320 < CoM)\n",
    "for off in [3, 2, 1]:\n",
    "    plt.subplot(1,7,index)\n",
    "    index+=1\n",
    "    x, y = CoM[:-off][filt[off:]], l3[off:][filt[off:]]\n",
    "    x, y = x[:min(len(x), len(y))], y[:min(len(x), len(y))]\n",
    "    x, y = x[~np.isnan(x)], y[~np.isnan(x)]\n",
    "    plt.hist2d(x, y, bins=(np.linspace(1250, 1450, nbins), np.linspace(5660, 5740, nbins)));\n",
    "    plt.title(\"offset: %d, R=%.4f\" % (-off, np.corrcoef(x, y)[0,1]))\n",
    "plt.subplot(1,7,index)\n",
    "index+=1\n",
    "x, y = CoM[filt], l3[filt]\n",
    "x, y = x[:min(len(x), len(y))], y[:min(len(x), len(y))]\n",
    "x, y = x[~np.isnan(x)], y[~np.isnan(x)]\n",
    "plt.hist2d(x, y, bins=(np.linspace(1250, 1450, nbins), np.linspace(5660, 5740, nbins)));\n",
    "plt.title(\"offset: %d, R= %.4f\" % (0, np.corrcoef(x, y)[0,1]))\n",
    "for off in [1, 2, 3]:\n",
    "    plt.subplot(1,7,index)\n",
    "    index+=1\n",
    "    x, y = CoM[off:][filt[:-off]], l3[:-off][filt[:-off]]\n",
    "    x, y = x[:min(len(x), len(y))], y[:min(len(x), len(y))]\n",
    "    x, y = x[~np.isnan(x)], y[~np.isnan(x)]\n",
    "    plt.hist2d(x, y, bins=(np.linspace(1250, 1450, nbins), np.linspace(5660, 5740, nbins)));\n",
    "    plt.title(\"offset: %d, R= %.4f\" % (off, np.corrcoef(x, y)[0,1]))\n",
    "plt.tight_layout()"
   ]
  },
  {
   "cell_type": "code",
   "execution_count": null,
   "metadata": {},
   "outputs": [],
   "source": [
    "plt.figure(figsize=(10,4))\n",
    "index = 1\n",
    "nbins = 180\n",
    "filt =   (5690 < l3) & ~even\n",
    "#filt = (np.arange(len(gmd)) > len(gmd)*0.8) #& (1320 < CoM)\n",
    "for off in [3, 2, 1]:\n",
    "    #plt.subplot(1,7,index)\n",
    "    index+=1\n",
    "    x, y = CoM[:-off][filt[off:]], l3[off:][filt[off:]]\n",
    "    x, y = x[:min(len(x), len(y))], y[:min(len(x), len(y))]\n",
    "    x, y = x[~np.isnan(x)], y[~np.isnan(x)]\n",
    "    plt.hist(np.polyval( np.polyfit(x, y, 1), x) - y, bins=np.linspace(-25, 25, nbins), histtype='step', label=off);\n",
    "    plt.title(\"offset: %d, R=%.4f\" % (-off, np.corrcoef(x, y)[0,1]))\n",
    "#plt.subplot(1,7,index)\n",
    "index+=1\n",
    "x, y = CoM[filt], l3[filt]\n",
    "x, y = x[:min(len(x), len(y))], y[:min(len(x), len(y))]\n",
    "x, y = x[~np.isnan(x)], y[~np.isnan(x)]\n",
    "plt.hist(np.polyval( np.polyfit(x, y, 1), x) - y, bins=np.linspace(-25, 25, nbins), histtype='step', label=0);\n",
    "#plt.title(\"offset: %d, R= %.4f\" % (0, np.corrcoef(x, y)[0,1]))\n",
    "for off in [1, 2, 3]:\n",
    "    #plt.subplot(1,7,index)\n",
    "    index+=1\n",
    "    x, y = CoM[off:][filt[:-off]], l3[:-off][filt[:-off]]\n",
    "    x, y = x[:min(len(x), len(y))], y[:min(len(x), len(y))]\n",
    "    x, y = x[~np.isnan(x)], y[~np.isnan(x)]\n",
    "    plt.hist(np.polyval( np.polyfit(x, y, 1), x) - y, bins=np.linspace(-25, 25, nbins), histtype='step', label=off);\n",
    "    #plt.title(\"offset: %d, R= %.4f\" % (off, np.corrcoef(x, y)[0,1]))\n",
    "plt.tight_layout()\n",
    "plt.legend()"
   ]
  },
  {
   "cell_type": "code",
   "execution_count": null,
   "metadata": {},
   "outputs": [],
   "source": [
    "plt.figure(figsize=(15,4))\n",
    "index = 1\n",
    "nbins = 180\n",
    "filt =   even | ~even\n",
    "#filt = (np.arange(len(gmd)) > len(gmd)*0.8) #& (1320 < CoM)\n",
    "resids = []\n",
    "for off in [-3, -2, -1, 0, 1, 2, 3]:\n",
    "    #plt.subplot(1,7,index)\n",
    "    index+=1\n",
    "    t, x, y = ts[10:-10][filt[10:-10]], CoM[10+off:-10+off][filt[10:-10]], l3[10:-10][filt[10:-10]]\n",
    "    t, x, y = t[:min(len(x), len(y))], x[:min(len(x), len(y))], y[:min(len(x), len(y))]\n",
    "    t, x, y = t[~np.isnan(x)], x[~np.isnan(x)], y[~np.isnan(x)]\n",
    "    plt.plot(t*1e-3, gaussian_filter(np.abs(np.polyval( np.polyfit(x, y, 1), x) - y), 50), label=off);\n",
    "    resids.append(np.polyval( np.polyfit(x, y, 1), x) - y)\n",
    "\n",
    "plt.legend()\n",
    "#plt.xlim(0, 500)\n",
    "plt.ylim(0, 7)\n",
    "plt.grid()\n",
    "plt.gca().twinx()\n",
    "plt.plot(ts*1e-3, gaussian_filter(l3, 50), 'k')\n",
    "plt.tight_layout()"
   ]
  },
  {
   "cell_type": "code",
   "execution_count": null,
   "metadata": {},
   "outputs": [],
   "source": [
    "plt.figure(dpi=120)\n",
    "for offset in [-3, -2, -1, 0, 1, 2, 3]:\n",
    "    plt.hist(vls[10+offset:-10+offset, 1000:1500].mean(1)[(~xray)[10:-10]], bins=np.linspace(298, 385, 120), histtype='step', label=offset)\n",
    "#plt.hist(vls.mean(1)[xray], bins=100, histtype='step', density=True)\n",
    "#plt.yscale('log')\n",
    "plt.hist(vls[10:-10, 500:1000].mean(1)[(~xray)[10:-10]] , bins=np.linspace(298, 385, 120), histtype='step', color='k')\n",
    "plt.legend()\n",
    "#plt.ylim(0, 800)\n",
    "plt.yscale('log')"
   ]
  },
  {
   "cell_type": "code",
   "execution_count": null,
   "metadata": {},
   "outputs": [],
   "source": [
    "plt.hist(gmd*1e3, bins = np.linspace(-10, 300, 100));\n",
    "plt.yscale('log')"
   ]
  },
  {
   "cell_type": "code",
   "execution_count": null,
   "metadata": {},
   "outputs": [],
   "source": [
    "plt.hist2d(gmd*1e3, )"
   ]
  },
  {
   "cell_type": "code",
   "execution_count": null,
   "metadata": {},
   "outputs": [],
   "source": [
    "plt.figure(dpi=200)\n",
    "plt.hist2d(vls[10:-10, 1000:1500].mean(1)[(~xray)[10:-10]], vls[10-1:-10-1, 1000:1500].mean(1)[(~xray)[10:-10]], bins=np.linspace(298, 385, 170), norm=LogNorm());\n",
    "plt.axis('square')"
   ]
  },
  {
   "cell_type": "code",
   "execution_count": null,
   "metadata": {},
   "outputs": [],
   "source": [
    "plt.hist2d(vls[10:-10, 1000:1500].mean(1)[(~xray)[10:-10]], vls[10-2:-10-2, 1000:1500].mean(1)[(~xray)[10:-10]], bins=np.linspace(298, 385, 170), norm=LogNorm());\n",
    "plt.axis('square')"
   ]
  },
  {
   "cell_type": "code",
   "execution_count": null,
   "metadata": {},
   "outputs": [],
   "source": []
  },
  {
   "cell_type": "code",
   "execution_count": null,
   "metadata": {},
   "outputs": [],
   "source": [
    "plt.hist2d(vls[10:-10, 1000:1500].mean(1)[(~xray)[10:-10]], vls[10+1:-10+1, 1000:1500].mean(1)[(~xray)[10:-10]], bins=np.linspace(298, 385, 170), norm=LogNorm());"
   ]
  },
  {
   "cell_type": "code",
   "execution_count": null,
   "metadata": {},
   "outputs": [],
   "source": [
    "plt.figure(dpi=200)\n",
    "plt.hist2d(vls[10:-10, 1000:1500].mean(1)[(~xray)[10:-10]]-vls[10:-10, 500:1000].mean(1)[(~xray)[10:-10]], 300+vls[10-1:-10-1, 1000:1500].mean(1)[(~xray)[10:-10]]-vls[10-1:-10-1, 500:1000].mean(1)[(~xray)[10:-10]], bins=np.linspace(298, 385, 170), norm=LogNorm());\n",
    "#plt.xlim(295, 310)\n",
    "#plt.ylim(295, 310)\n",
    "plt.axis(\"square\")"
   ]
  },
  {
   "cell_type": "code",
   "execution_count": null,
   "metadata": {},
   "outputs": [],
   "source": [
    "plt.hist(vls[10:-10, 500:1000].mean(1)[(~xray)[10:-10]], bins=np.linspace(298, 385, 170));\n",
    "plt.yscale('log')"
   ]
  },
  {
   "cell_type": "code",
   "execution_count": null,
   "metadata": {},
   "outputs": [],
   "source": [
    "plt.figure(figsize=(25,4))\n",
    "data= []\n",
    "for offset in [-3, -2, -1, 0, 1, 2, 3]:\n",
    "    plt.plot(vls[10+offset:-10+offset,1000:1500].mean(1)[~xray[10:-10]] + offset*0, label=offset, alpha=1)\n",
    "    data.append(vls[10+offset:-10+offset,1000:1500].mean(1)[~xray[10:-10]] - vls[10+offset:-10+offset,0:500].mean(1)[~xray[10:-10]])\n",
    "#plt.hist(vls.mean(1)[xray], bins=100, histtype='step', density=True)\n",
    "#plt.yscale('log')\n",
    "plt.legend()\n",
    "#plt.xlim(0,600)\n",
    "plt.xlim(0, 2000)\n",
    "data = np.array(data)"
   ]
  },
  {
   "cell_type": "code",
   "execution_count": null,
   "metadata": {},
   "outputs": [],
   "source": [
    "badvls_where = np.where(badvls)[0]\n",
    "bykik_where = np.where(~xray)[0]\n",
    "lim = 4\n",
    "ln = len(xray)\n",
    "badvls_where = badvls_where[(lim<=badvls_where)&(badvls_where<ln-lim)]\n",
    "bykik_where = bykik_where[(lim<=bykik_where)&(bykik_where<ln-lim)]\n",
    "print(np.unique(np.diff(badvls_where), return_counts=True))\n",
    "print(np.unique(np.diff(bykik_where), return_counts=True))"
   ]
  },
  {
   "cell_type": "code",
   "execution_count": null,
   "metadata": {},
   "outputs": [],
   "source": [
    "offsets = [-1, 0, 1]\n",
    "data = np.zeros((len(bykik_where), len(offsets)))\n",
    "for i, idx in enumerate(bykik_where):\n",
    "    for j, offset in enumerate(offsets):\n",
    "        offset_idx = idx + offset\n",
    "        if offset_idx in badvls_where:\n",
    "            data[i, j] = -9999\n",
    "        else:\n",
    "            data[i, j] = vls[offset_idx, 1000:1500].mean() - vls[offset_idx, 250:750].mean()"
   ]
  },
  {
   "cell_type": "code",
   "execution_count": null,
   "metadata": {},
   "outputs": [],
   "source": [
    "data.shape, len(bykik_where)"
   ]
  },
  {
   "cell_type": "code",
   "execution_count": null,
   "metadata": {},
   "outputs": [],
   "source": [
    "plt.hist2d(gmd, vls[:, 1000:1500].mean(1) - vls[:, 250:750].mean(1), bins=(np.linspace(-0.1, 0.5, 150), np.linspace(-5, 80, 100)), norm=LogNorm());"
   ]
  },
  {
   "cell_type": "code",
   "execution_count": null,
   "metadata": {},
   "outputs": [],
   "source": [
    "v_thresh = 1.5 #check this each run??\n",
    "E_thresh = 0.05 #check this each run??\n",
    "offsets = np.zeros_like(bykik_where)\n",
    "types = np.zeros_like(bykik_where)\n",
    "\n",
    "found = 0\n",
    "for i, idx in enumerate(bykik_where):\n",
    "    \n",
    "    vs = vls[idx-1:idx+2, 1000:1500].mean(1) - vls[idx-1:idx+2, 250:750].mean(1) - 20 * badvls[idx-1:idx+2]\n",
    "    vs = np.digitize(vs, bins=[-99999, -15, v_thresh, 99999]) - 2 # -1: badvls, 0: lowvls, +1: highvls\n",
    "    \n",
    "    Es = gmd[idx-2:idx+3][[0, 1, 3, 4]] > E_thresh\n",
    "    \n",
    "    if np.all(vs==[1,0,1]) and np.all(Es): # situation 1, checked\n",
    "        offsets[i] = 0\n",
    "        types[i] = 1\n",
    "    elif np.all(vs==[ 1,-1, 1]) and np.all(Es): # situation 2, didn't find any yet\n",
    "        offsets[i] = 0\n",
    "        types[i] = 2\n",
    "    elif np.all(vs==[ 1, 0,-1]) and np.all(Es): # situation 3, didn't find any yet\n",
    "        offsets[i] = 0\n",
    "        types[i] = 3\n",
    "    elif np.all(vs==[-1, 0, 1]) and np.all(Es): # situation 4, checked\n",
    "        offsets[i] = 0\n",
    "        types[i] = 4\n",
    "    elif np.all(vs==[ 1, 1, 0]) and np.all(Es): # situation 5, didn't find any this run (check 187)\n",
    "        offsets[i] = 1\n",
    "        types[i] = 5\n",
    "    elif np.all(vs==[ 1, 1,-1]) and np.all(Es): # situation 6, didn't find any this run (check 187, but probably rare)\n",
    "        offsets[i] = 1\n",
    "        types[i] = 6\n",
    "    elif np.all(vs==[ 1,-1, 0]) and np.all(Es): # situation 7, didn't find any this run (check 187, but probably rare)\n",
    "        offsets[i] = 1\n",
    "        types[i] = 7\n",
    "    elif np.all(vs==[-1, 1, 0]) and np.all(Es): # situation 8, didn't find any this run (check 187, but probably rare)\n",
    "        offsets[i] = 1\n",
    "        types[i] = 8\n",
    "    elif np.all(vs==[ 0, 1, 1]) and np.all(Es): # situation 9, checked\n",
    "        offsets[i] = -1\n",
    "        types[i] = 9\n",
    "    elif np.all(vs==[-1, 1, 1]) and np.all(Es): # situation 10, didn't find any yet\n",
    "        offsets[i] = -1\n",
    "        types[i] = 10\n",
    "    elif np.all(vs==[ 0,-1, 1]) and np.all(Es): # situation 11, checked\n",
    "        offsets[i] = -1\n",
    "        types[i] = 11\n",
    "    elif np.all(vs==[ 0, 1,-1]) and np.all(Es): # situation 12, checked\n",
    "        offsets[i] = -1\n",
    "        types[i] = 12\n",
    "    elif np.all(vs==[ 1, 0, 0]) and np.all(Es==[1, 1, 0, 1]): # situation 13, checked\n",
    "        offsets[i] = 0\n",
    "        types[i] = 13\n",
    "    elif np.all(vs==[ 1,-1, 0]) and np.all(Es==[1, 1, 0, 1]): # situation 14, didn't find any yet\n",
    "        offsets[i] = 0\n",
    "        types[i] = 14\n",
    "    elif np.all(vs==[ 1, 0,-1]) and np.all(Es==[1, 1, 0, 1]): # situation 15, didn't find any yet\n",
    "        offsets[i] = 0\n",
    "        types[i] = 15\n",
    "    elif np.all(vs==[ 0, 0, 1]) and np.all(Es==[1, 0, 1, 1]): # situation 16, checked\n",
    "        offsets[i] = 0\n",
    "        types[i] = 16\n",
    "    elif np.all(vs==[ 0,-1, 1]) and np.all(Es==[1, 0, 1, 1]): # situation 17, did't find any yet\n",
    "        offsets[i] = 0\n",
    "        types[i] = 17\n",
    "    elif np.all(vs==[-1, 0, 1]) and np.all(Es==[1, 0, 1, 1]): # situation 18, didn't find any yet\n",
    "        offsets[i] = 0\n",
    "        types[i] = 18\n",
    "    elif np.all(vs==[ 1, 0, 0]) and np.all(Es==[1, 0, 1, 1]): # situation 19, didn't find any (check 187?)\n",
    "        offsets[i] = 1\n",
    "        types[i] = 19\n",
    "    elif np.all(vs==[ 1,-1, 0]) and np.all(Es==[1, 0, 1, 1]): # situation 20, didn't find any (check 187?)\n",
    "        offsets[i] = 1\n",
    "        types[i] = 20\n",
    "    elif np.all(vs==[ 1, 0,-1]) and np.all(Es==[1, 0, 1, 1]): # situation 21, didn't find any (check 187?)\n",
    "        offsets[i] = 1\n",
    "        types[i] = 21\n",
    "    elif np.all(vs==[ 0, 0, 1]) and np.all(Es==[1, 1, 0, 1]): # situation 22, checked (rare)\n",
    "        offsets[i] = -1\n",
    "        types[i] = 22\n",
    "    elif np.all(vs==[ 0,-1, 1]) and np.all(Es==[1, 1, 0, 1]): # situation 23, didn't find any\n",
    "        offsets[i] = -1\n",
    "        types[i] = 23\n",
    "    elif np.all(vs==[-1, 0, 1]) and np.all(Es==[1, 1, 0, 1]): # situation 24, didn't find any yet\n",
    "        offsets[i] = -1\n",
    "        types[i] = 24\n",
    "    else:\n",
    "        offsets[i] = 2\n",
    "        types[i] = 0\n",
    "        \n",
    "    if types[i]==923424:\n",
    "        print(vs, Es)\n",
    "        plt.figure()\n",
    "        d = 20\n",
    "        plt.plot(vls[idx-d:idx+d+1, 1000:1500].mean(1) - vls[idx-d:idx+d+1, 250:750].mean(1) - 10 * badvls[idx-d:idx+d+1], 'k.-')\n",
    "        plt.plot(gmd[idx-d:idx+d+1]*100, 'b.')\n",
    "        plt.plot(np.arange(2*d+1)*0 + 5, 'c--', alpha=0.6)\n",
    "        plt.plot(np.arange(2*d+1)*0 + v_thresh, 'k--', alpha=0.6)\n",
    "        plt.ylim(-10, 30)\n",
    "        found +=1\n",
    "    #if found>5:\n",
    "    #    break"
   ]
  },
  {
   "cell_type": "code",
   "execution_count": null,
   "metadata": {},
   "outputs": [],
   "source": [
    "plt.plot(*np.unique(offsets, return_counts=True), 'ro-')\n",
    "plt.yscale('log')"
   ]
  },
  {
   "cell_type": "code",
   "execution_count": null,
   "metadata": {},
   "outputs": [],
   "source": [
    "plt.plot(*np.unique(types, return_counts=True), 'ro-')\n",
    "plt.yscale('log')\n",
    "plt.grid(which='both')"
   ]
  },
  {
   "cell_type": "code",
   "execution_count": null,
   "metadata": {},
   "outputs": [],
   "source": [
    "len(bykik_where), len(offsets), len(badvls_where)"
   ]
  },
  {
   "cell_type": "code",
   "execution_count": null,
   "metadata": {},
   "outputs": [],
   "source": [
    "vls_timestamps = np.zeros_like(timestamps) - 9999\n",
    "vls_fixtype = np.zeros_like(timestamps) - 9999\n",
    "for bykik_0, bykik_1, offset_0, offset_1, type_0, type_1 in zip(bykik_where[:-1], bykik_where[1:], offsets[:-1], offsets[1:], types[:-1], types[1:]):\n",
    "    \n",
    "    badvls_shots = badvls_where[(bykik_0<=badvls_where)&(badvls_where<=bykik_1)]\n",
    "    nbad = len(badvls_shots)\n",
    "    if nbad not in [0, 1]:\n",
    "        print(bykik_0)\n",
    "        raise ValueError\n",
    "    elif nbad==1:\n",
    "        badvls_shot = badvls_shots[0]\n",
    "        \n",
    "    if offset_0==2 or offset_1==2:\n",
    "        vls_fixtype[bykik_0:bykik_1+1] = -1 # couldn't identify the offset at limits\n",
    "    elif offset_0==0 and offset_1==-1 and nbad==0:\n",
    "        vls_fixtype[bykik_0:bykik_1+1] = -2 # offset got changed between these\n",
    "    elif offset_0==0 and offset_1==-1 and nbad==1:\n",
    "        if bykik_1 != badvls_shot:\n",
    "            print(\"Weird scenario, ??:\", bykik_0, offset_0, type_0, bykik_1, offset_1, type_1, badvls_shot)\n",
    "        else:\n",
    "            vls_fixtype[bykik_0:bykik_1+1] = -3 # broken, fixed, but immediately offset\n",
    "    elif offset_0==0 and offset_1==0 and nbad==0:\n",
    "        vls_timestamps[bykik_0:bykik_1+1] = timestamps[bykik_0:bykik_1+1]\n",
    "        vls_fixtype[bykik_0:bykik_1+1] = 1\n",
    "    elif offset_0==-1 and offset_1==-1 and nbad==0:\n",
    "        vls_timestamps[bykik_0:bykik_1+1] = timestamps[bykik_0-1:bykik_1]\n",
    "        vls_fixtype[bykik_0:bykik_1+1] = 2\n",
    "    elif offset_0==-1 and offset_1==0 and nbad==1:\n",
    "        vls_timestamps[bykik_0:badvls_shot+1] = timestamps[bykik_0-1:badvls_shot]\n",
    "        vls_fixtype[bykik_0:badvls_shot+1] = 3\n",
    "        vls_timestamps[badvls_shot+1:bykik_1+1] = timestamps[badvls_shot+1:bykik_1+1]\n",
    "        vls_fixtype[badvls_shot+1:bykik_1+1] = 4\n",
    "    elif offset_0==-1 and offset_1==-1 and nbad==1:\n",
    "        vls_timestamps[bykik_0:badvls_shot+1] = timestamps[bykik_0-1:badvls_shot]\n",
    "        vls_fixtype[bykik_0:badvls_shot+1] = 5\n",
    "    elif offset_0==0 and offset_1==0 and nbad==1:\n",
    "        vls_timestamps[badvls_shot+1:bykik_1+1] = timestamps[badvls_shot+1:bykik_1+1]\n",
    "        vls_fixtype[badvls_shot+1:bykik_1+1] = 6\n",
    "    elif offset_0==-1 and offset_1==0 and nbad==0:\n",
    "        print(\"Weird scenario, fixed without None VLS:\", bykik_0, offset_0, type_0, bykik_1, offset_1, type_1, badvls_shot)\n",
    "    else:\n",
    "        print(\"Unaccounted: \", bykik_0, offset_0, type_0, bykik_1, offset_1, type_1, badvls_shot)"
   ]
  },
  {
   "cell_type": "code",
   "execution_count": null,
   "metadata": {},
   "outputs": [],
   "source": [
    "print(np.unique(vls_fixtype, return_counts=True)[0])\n",
    "print(np.unique(vls_fixtype, return_counts=True)[1])"
   ]
  },
  {
   "cell_type": "code",
   "execution_count": null,
   "metadata": {},
   "outputs": [],
   "source": [
    "idx = 44654\n",
    "d = 30\n",
    "plt.figure(figsize=(20, 5))\n",
    "plt.plot(vls[:,1000:1500].mean(1) - vls[:,250:750].mean(1) - 10*badvls, 'k.-')\n",
    "plt.plot(gmd*100, 'b.')\n",
    "plt.plot(gmd*-99999 * (gmd>-100), 'rx')\n",
    "plt.xlim(idx-d, idx+d+13)\n",
    "plt.ylim(-15, 30)"
   ]
  },
  {
   "cell_type": "code",
   "execution_count": null,
   "metadata": {},
   "outputs": [],
   "source": [
    "valid_offset = vls_fixtype > 0\n",
    "assert np.all((timestamps==vls_timestamps[valid_offset][:,None]).sum(1)==1)\n",
    "vls_fix_idx = (timestamps==vls_timestamps[valid_offset][:,None]).argmax(1)"
   ]
  },
  {
   "cell_type": "code",
   "execution_count": null,
   "metadata": {},
   "outputs": [],
   "source": [
    "x, y = l3[valid_offset], CoM[valid_offset]\n",
    "filt = ~np.isnan(y)\n",
    "x, y = x[filt], y[filt]\n",
    "plt.hist2d(x, y, bins=(np.linspace(5650, 5750, 100), np.linspace(1180, 1360, 110)));"
   ]
  },
  {
   "cell_type": "code",
   "execution_count": null,
   "metadata": {},
   "outputs": [],
   "source": [
    "x, y = l3[valid_offset], CoM[vls_fix_idx]\n",
    "filt = ~np.isnan(y)\n",
    "x, y = x[filt], y[filt]\n",
    "plt.hist2d(x, y, bins=(np.linspace(5650, 5750, 100), np.linspace(1180, 1360, 110)));"
   ]
  },
  {
   "cell_type": "code",
   "execution_count": null,
   "metadata": {},
   "outputs": [],
   "source": []
  },
  {
   "cell_type": "code",
   "execution_count": null,
   "metadata": {},
   "outputs": [],
   "source": [
    "plt.hist2d(gmd[valid_offset], vls[vls_fix_idx,1000:1500].mean(1)-vls[vls_fix_idx,250:750].mean(1), bins=(np.linspace(-0.05, 0.3, 100), np.linspace(0, 50)));"
   ]
  },
  {
   "cell_type": "code",
   "execution_count": null,
   "metadata": {},
   "outputs": [],
   "source": [
    "plt.hist2d(gmd[valid_offset], vls[valid_offset,1000:1500].mean(1)-vls[valid_offset,250:750].mean(1), bins=(np.linspace(-0.05, 0.3, 100), np.linspace(0, 50)));"
   ]
  },
  {
   "cell_type": "code",
   "execution_count": null,
   "metadata": {},
   "outputs": [],
   "source": [
    "plt.hist2d(gmd, vls[:,1000:1500].mean(1)-vls[:,250:750].mean(1), bins=(np.linspace(-0.05, 0.3, 100), np.linspace(0, 50)));"
   ]
  },
  {
   "cell_type": "code",
   "execution_count": null,
   "metadata": {},
   "outputs": [],
   "source": [
    "for i in range(1, 7):\n",
    "    plt.figure()\n",
    "    assert np.all((timestamps==vls_timestamps[vls_fixtype==i][:,None]).sum(1)==1)\n",
    "    vls_fix_idx = (timestamps==vls_timestamps[vls_fixtype==i][:,None]).argmax(1)\n",
    "    plt.hist(timestamps[vls_fixtype==i] - timestamps[vls_fix_idx], bins=50);\n",
    "    plt.yscale('log')"
   ]
  },
  {
   "cell_type": "code",
   "execution_count": null,
   "metadata": {},
   "outputs": [],
   "source": [
    "idx = 47173\n",
    "d = 40\n",
    "plt.figure(figsize=(20,5))\n",
    "plt.plot(vls[idx-d:idx+d+1, 1000:1500].mean(1) - vls[idx-d:idx+d+1, 250:750].mean(1) - 10 * badvls[idx-d:idx+d+1], 'k.-')\n",
    "plt.plot(gmd[idx-d:idx+d+1]*100, 'b.')\n",
    "plt.plot(gmd[idx-d:idx+d+1]*-99999 * (gmd[idx-d:idx+d+1]>-100), 'rx')\n",
    "plt.plot(np.arange(2*d+1)*0 + 5, 'c--', alpha=0.6)\n",
    "plt.plot(np.arange(2*d+1)*0 + v_thresh, 'k--', alpha=0.6)\n",
    "plt.ylim(-10, 30)"
   ]
  },
  {
   "cell_type": "code",
   "execution_count": null,
   "metadata": {},
   "outputs": [],
   "source": []
  },
  {
   "cell_type": "code",
   "execution_count": null,
   "metadata": {},
   "outputs": [],
   "source": []
  },
  {
   "cell_type": "code",
   "execution_count": null,
   "metadata": {},
   "outputs": [],
   "source": [
    "vls_timestamps"
   ]
  },
  {
   "cell_type": "code",
   "execution_count": null,
   "metadata": {},
   "outputs": [],
   "source": [
    "print(vs)\n",
    "np.digitize(vs, bins=[-99999, -15, v_thresh, 99999]) - 2"
   ]
  },
  {
   "cell_type": "code",
   "execution_count": null,
   "metadata": {},
   "outputs": [],
   "source": [
    "plt.plot()"
   ]
  },
  {
   "cell_type": "code",
   "execution_count": null,
   "metadata": {},
   "outputs": [],
   "source": [
    "    if (vs > v_thresh).sum()==3: # all high, very strange indeed\n",
    "        offset = np.nan\n",
    "    elif (vs > v_thresh).sum()==2: # two high, one low, this is the 'normal' scenario\n",
    "        offset =  - vs.argmin() + 1\n",
    "    elif (vs > v_thresh).sum()==1: # one high, two\n",
    "        \n",
    "    if vs[0] > v_thresh and vs[1] > v_thresh and vs[2] > v_thresh:\n",
    "        offset = np.nan\n",
    "    elif vs[0] <= v_thresh and vs[1] > v_thresh and vs[2] > v_thresh:\n",
    "        offset = -1\n",
    "    elif vs[0] > v_thresh and vs[1] <= v_thresh and vs[2] > v_thresh:\n",
    "        offset = 0\n",
    "    elif vs[0] > v_thresh and vs[1] > v_thresh and vs[2] <= v_thresh:\n",
    "        offset = 1\n",
    "    elif "
   ]
  },
  {
   "cell_type": "code",
   "execution_count": null,
   "metadata": {},
   "outputs": [],
   "source": [
    "print(vs)\n",
    "print((Es*1e3).astype(int))"
   ]
  },
  {
   "cell_type": "code",
   "execution_count": null,
   "metadata": {},
   "outputs": [],
   "source": [
    "for offset in [-1, 0, 1]:\n",
    "    print(Es[1-offset:4-offset] > 0.05, vs > v_thresh)\n",
    "    print(np.all((Es[1-offset:4-offset] > 0.05) == (vs > v_thresh)))"
   ]
  },
  {
   "cell_type": "code",
   "execution_count": null,
   "metadata": {},
   "outputs": [],
   "source": [
    "v_thresh = 1.5\n",
    "if vs[0] <= v_thresh and vs[1] > v_thresh and vs[2] > v_thresh:\n",
    "    offset = -1\n",
    "elif vs[0] > v_thresh and vs[1] <= v_thresh and vs[2] > v_thresh:\n",
    "    offset = 0\n",
    "elif vs[0] > v_thresh and vs[1] > v_thresh and vs[2] <= v_thresh:\n",
    "    offset = 1"
   ]
  },
  {
   "cell_type": "code",
   "execution_count": null,
   "metadata": {},
   "outputs": [],
   "source": []
  },
  {
   "cell_type": "code",
   "execution_count": null,
   "metadata": {},
   "outputs": [],
   "source": []
  },
  {
   "cell_type": "code",
   "execution_count": null,
   "metadata": {},
   "outputs": [],
   "source": [
    "plt.figure(dpi=120)\n",
    "plt.hist(data, bins=np.linspace(-3, 80, 520), histtype='step');\n",
    "plt.yscale('log')\n",
    "plt.xlim(-3, 5)\n",
    "plt.legend(offsets)"
   ]
  },
  {
   "cell_type": "code",
   "execution_count": null,
   "metadata": {},
   "outputs": [],
   "source": [
    "plt.figure(dpi=120)\n",
    "plt.hist2d(np.abs(data[:,[0, 1, 4, 5, 6]]).min(1), np.abs(data[:,2:4]).min(1), bins=np.linspace(-3, 80, 220), norm=LogNorm());\n",
    "plt.axis('square')\n",
    "plt.xlim(-3, 3)\n",
    "plt.ylim(-3, 3)"
   ]
  },
  {
   "cell_type": "code",
   "execution_count": null,
   "metadata": {},
   "outputs": [],
   "source": [
    "plt.figure(dpi=120)\n",
    "plt.hist2d(data[:,4], np.abs(data[:,2:4]).min(1), bins=np.linspace(-3, 80, 220), norm=LogNorm());\n",
    "plt.axis('square')\n",
    "#plt.xlim(-3, 3)\n",
    "#plt.ylim(-3, 3)"
   ]
  },
  {
   "cell_type": "code",
   "execution_count": null,
   "metadata": {},
   "outputs": [],
   "source": [
    "plus_one = bykik_where[(np.abs(data[:,2])<1.5)&(np.abs(data[:,:2]).min(1)>1.5)]\n",
    "print(plus_one)"
   ]
  },
  {
   "cell_type": "code",
   "execution_count": null,
   "metadata": {},
   "outputs": [],
   "source": [
    "data.shape"
   ]
  },
  {
   "cell_type": "code",
   "execution_count": null,
   "metadata": {},
   "outputs": [],
   "source": [
    "# where offset = -1 probably\n",
    "np.random.choice(bykik_where[np.abs(data[:,2])<1.5], 5)"
   ]
  },
  {
   "cell_type": "code",
   "execution_count": null,
   "metadata": {},
   "outputs": [],
   "source": [
    "f"
   ]
  },
  {
   "cell_type": "code",
   "execution_count": null,
   "metadata": {},
   "outputs": [],
   "source": [
    "from scipy.ndimage.filters import gaussian_filter\n",
    "def nan_smooth(U, sig=2, trunc=4):\n",
    "    V = U.copy()\n",
    "    V[np.isnan(U)]=0\n",
    "    VV = gaussian_filter(V, sigma=sig, truncate=trunc)\n",
    "    \n",
    "    W = 0*U.copy() + 1\n",
    "    W[np.isnan(U)] = 0\n",
    "    WW = gaussian_filter(W, sigma=sig, truncate=trunc)\n",
    "    \n",
    "    return VV/WW\n",
    "    \n",
    "#plt.plot(gmd)\n",
    "gmd_smooth = gmd.copy()\n",
    "gmd_smooth[gmd<-1] = np.nan\n",
    "gmd_smooth = nan_smooth(gmd_smooth, sig=4)\n",
    "x = np.arange(len(gmd_smooth))\n",
    "plt.figure(figsize=(25, 4))\n",
    "plt.plot(x, gmd_smooth)\n",
    "\n",
    "plt.plot(x[gmd_smooth<0.04], gmd_smooth[gmd_smooth<0.04], 'r.')\n",
    "plt.ylim(-0.1, 0.5)\n",
    "#plt.xlim(0, 100)\n",
    "#plt.xlim(0, 18000)\n",
    "#plt.xlim(2000, 7000)\n",
    "#plt.xticks(np.arange(2000, 7001, 100));\n",
    "plt.grid()"
   ]
  },
  {
   "cell_type": "code",
   "execution_count": null,
   "metadata": {},
   "outputs": [],
   "source": [
    "plt.plot(badvls)\n",
    "plt.xlim(0, 4500)"
   ]
  },
  {
   "cell_type": "code",
   "execution_count": null,
   "metadata": {},
   "outputs": [],
   "source": [
    "plt.hist(nan_smooth(gmd_smooth, sig=2), bins=100);"
   ]
  },
  {
   "cell_type": "code",
   "execution_count": null,
   "metadata": {},
   "outputs": [],
   "source": [
    "# where offset = 0 probably\n",
    "np.random.choice(bykik_where[np.abs(data[:,3])<1.5], 5)"
   ]
  },
  {
   "cell_type": "code",
   "execution_count": null,
   "metadata": {},
   "outputs": [],
   "source": [
    "# Can't tell!\n",
    "both_low = bykik_where[np.abs(data[:,1:]).max(1)<1.5]\n",
    "print(both_low)\n",
    "print(gmd[both_low+1])"
   ]
  },
  {
   "cell_type": "code",
   "execution_count": null,
   "metadata": {},
   "outputs": [],
   "source": [
    "# Can't tell!\n",
    "both_high = bykik_where[np.abs(data[:,:]).min(1)>1.5]\n",
    "print(both_high)"
   ]
  },
  {
   "cell_type": "code",
   "execution_count": null,
   "metadata": {},
   "outputs": [],
   "source": [
    "plt.hist(gmd[both_low+1], bins=np.linspace(-0.1, 0.1, 10), histtype='step')\n",
    "plt.hist(gmd[both_low+2], bins=np.linspace(-0.1, 0.1, 10), histtype='step')\n",
    "plt.hist(gmd[both_low+3], bins=np.linspace(-0.1, 0.1, 10), histtype='step')"
   ]
  },
  {
   "cell_type": "code",
   "execution_count": null,
   "metadata": {},
   "outputs": [],
   "source": [
    "# weird?\n",
    "weird = bykik_where[(np.abs(data[:,2:4]).min(1)<1.5)&(np.abs(data[:,[0, 1, 4, 5, 6]]).min(1)<1.5)&(gmd_smooth[bykik_where]>0.1)]\n",
    "print(weird)"
   ]
  },
  {
   "cell_type": "code",
   "execution_count": null,
   "metadata": {},
   "outputs": [],
   "source": [
    "x0 = 51303 # shows a np.diff(bykik)==12 jump, offset of 0 probably\n",
    "x0 = 39443 # can't tell between -1 and 0\n",
    "x0 = 16571 # -1 offset probably"
   ]
  },
  {
   "cell_type": "code",
   "execution_count": null,
   "metadata": {},
   "outputs": [],
   "source": [
    "badvls_where"
   ]
  },
  {
   "cell_type": "code",
   "execution_count": null,
   "metadata": {},
   "outputs": [],
   "source": [
    "\n",
    "plt.figure(figsize=(25,4))\n",
    "x0, d = 5000, 80\n",
    "plotdata = vls[x0-d:x0+d+1,1000:1500].mean(1) - vls[x0-d:x0+d+1,250:750].mean(1) - 10 * badvls[x0-d:x0+d+1]\n",
    "bykik_where_local = bykik_where[np.abs(bykik_where-x0)<d+1]\n",
    "plotdata2 = vls[bykik_where_local][:,1000:1500].mean(1) - vls[bykik_where_local][:,250:750].mean(1)\n",
    "phase = np.abs(plotdata).argmin() % 13\n",
    "plt.plot(plotdata, 'k.-')\n",
    "plt.plot(bykik_where_local-x0+d, plotdata2, 'rx')\n",
    "plt.xticks(np.arange(d*2+1)[phase::13])\n",
    "plt.grid()\n",
    "#plt.gca().twinx()\n",
    "gmddata = gmd[x0-d:x0+d+1]\n",
    "plt.plot(gmddata * np.abs(np.median(plotdata)) / np.abs(np.median(gmddata)), 'b.')\n",
    "plt.ylim(-10, 40)"
   ]
  },
  {
   "cell_type": "code",
   "execution_count": null,
   "metadata": {},
   "outputs": [],
   "source": [
    "plt.plot(gmd[:100])\n",
    "plt.ylim(-0.5, 0.5)\n",
    "idx_ = np.arange(100)\n",
    "gmd_ = gmd[:100]\n",
    "vls_idx = [0, 1, 2, 3, 4, -999,-999,-999, 9, 10, 11, -999, 12, ]\n",
    "vls_ = vls[vls_idx]"
   ]
  },
  {
   "cell_type": "code",
   "execution_count": null,
   "metadata": {},
   "outputs": [],
   "source": [
    "vls.shape, timestamps.shape"
   ]
  },
  {
   "cell_type": "code",
   "execution_count": null,
   "metadata": {},
   "outputs": [],
   "source": [
    "plt.hist(np.diff(timestamps)/1e6, bins=100);#bins=np.linspace(0.5, 5000, 100));\n",
    "plt.yscale('log')"
   ]
  },
  {
   "cell_type": "raw",
   "metadata": {},
   "source": [
    "(vs>v_thresh) == np.array([False, True, True])"
   ]
  },
  {
   "cell_type": "code",
   "execution_count": null,
   "metadata": {},
   "outputs": [],
   "source": [
    "vls.shape"
   ]
  },
  {
   "cell_type": "code",
   "execution_count": null,
   "metadata": {},
   "outputs": [],
   "source": [
    "badvls_where"
   ]
  },
  {
   "cell_type": "code",
   "execution_count": null,
   "metadata": {},
   "outputs": [],
   "source": [
    "plt.plot(data);\n",
    "plt.xlim(0, 100)\n",
    "plt.ylim(-3, 80)"
   ]
  },
  {
   "cell_type": "code",
   "execution_count": null,
   "metadata": {},
   "outputs": [],
   "source": [
    "(data==-9999).sum(0)"
   ]
  },
  {
   "cell_type": "code",
   "execution_count": null,
   "metadata": {},
   "outputs": [],
   "source": [
    "data = []\n",
    "for offset in [-3, -2, -1, 0, 1, 2, 3]:\n",
    "    data.append(vls[lim+offset:-lim+offset, 1000:1500].mean(1))\n",
    "    data.append(vls[5+offset:-5+offset,1000:1500].mean(1)[~xray[5:-5]] - vls[10+offset:-10+offset,0:500].mean(1)[~xray[10:-10]])\n",
    "data = np.array(data)"
   ]
  },
  {
   "cell_type": "code",
   "execution_count": null,
   "metadata": {},
   "outputs": [],
   "source": [
    "plt.figure(dpi=120)\n",
    "plt.hist2d(data[5][newb], data[2][newbad], bins=np.linspace(-20, 80, 120), norm=LogNorm());\n",
    "plt.axis('square')"
   ]
  },
  {
   "cell_type": "code",
   "execution_count": null,
   "metadata": {},
   "outputs": [],
   "source": []
  },
  {
   "cell_type": "code",
   "execution_count": null,
   "metadata": {},
   "outputs": [],
   "source": []
  },
  {
   "cell_type": "code",
   "execution_count": null,
   "metadata": {},
   "outputs": [],
   "source": [
    "[k for k in raw.keys() if 'las' in k]\n",
    "delay_tgt = raw['epics_las_fs14_target_time'][:][order]\n",
    "plt.plot(ts*1e-3, delay_tgt)\n",
    "plt.xlim"
   ]
  },
  {
   "cell_type": "code",
   "execution_count": null,
   "metadata": {},
   "outputs": [],
   "source": [
    "for xlow, xhigh in [(0, 50), (0, 1000), (1000, 2000), (2000, 3000), (3000, 3800)]:\n",
    "    plt.figure(figsize=(20,4))\n",
    "    plt.plot(ts[:-1]*1e-3, np.diff(timestamps), 'r.-')\n",
    "    #plt.xlim(0, 10)\n",
    "    plt.xlim(xlow, xhigh)\n",
    "    #plt.xlim(8000, 9000)\n",
    "    plt.yscale('log')\n",
    "    plt.plot(ts*1e-3, badvls*1e3+1, 'b.-')\n",
    "    plt.plot(ts*1e-3, (delay_tgt - delay_tgt.min())*1e8 + 1e3, 'k')\n",
    "    \n",
    "    plt.plot(ts[10:-10][~xray[10:-10]]*1e-3, np.array(data).argmin(0)*1e6 + 3e3, 'g.-')"
   ]
  },
  {
   "cell_type": "code",
   "execution_count": null,
   "metadata": {},
   "outputs": [],
   "source": [
    "for xlow, xhigh in [(0, 50), (2000, 2030), (0, 1000), (1000, 2000), (2000, 3000), (3000, 3800)]:\n",
    "    plt.figure(figsize=(20,4))\n",
    "    plt.plot(ts[:-1]*1e-3, np.diff(timestamps) > 10e6, 'r.-')\n",
    "    #plt.xlim(0, 10)\n",
    "    plt.xlim(xlow, xhigh)\n",
    "    #plt.xlim(8000, 9000)\n",
    "    #plt.yscale('log')\n",
    "    plt.plot(ts*1e-3, badvls, 'b.-')\n",
    "    #plt.plot(ts*1e-3, (delay_tgt - delay_tgt.min())*1e8 + 1e3, 'k')\n",
    "    \n",
    "    plt.plot(ts[10:-10][~xray[10:-10]]*1e-3, np.array(data).argmin(0), 'g.-')"
   ]
  },
  {
   "cell_type": "code",
   "execution_count": null,
   "metadata": {},
   "outputs": [],
   "source": [
    "ts.shape, xray.shape, data[0].shape, (~xray[10:-10]).sum()"
   ]
  },
  {
   "cell_type": "code",
   "execution_count": null,
   "metadata": {},
   "outputs": [],
   "source": [
    "ts[-10:10][(~xray)[10:-10]].shape"
   ]
  },
  {
   "cell_type": "code",
   "execution_count": null,
   "metadata": {},
   "outputs": [],
   "source": [
    "plt.hist2d(badvls[:-1], np.diff(timestamps), bins=(2, 2), norm=LogNorm())\n",
    "plt.colorbar()\n"
   ]
  },
  {
   "cell_type": "code",
   "execution_count": null,
   "metadata": {},
   "outputs": [],
   "source": [
    "plt.plot(badvls[:-1]==(np.diff(timestamps)>100e6))"
   ]
  },
  {
   "cell_type": "code",
   "execution_count": null,
   "metadata": {},
   "outputs": [],
   "source": [
    "badvls.shape, timestamps.shape"
   ]
  },
  {
   "cell_type": "code",
   "execution_count": null,
   "metadata": {},
   "outputs": [],
   "source": [
    "plt.plot((np.diff(ts)*1e-3)[:40])"
   ]
  },
  {
   "cell_type": "code",
   "execution_count": null,
   "metadata": {},
   "outputs": [],
   "source": [
    "diff_ts = np.diff(ts)\n",
    "where_big = np.where(diff_ts>50)[0]\n",
    "plt.plot(np.diff(where_big))"
   ]
  },
  {
   "cell_type": "code",
   "execution_count": null,
   "metadata": {},
   "outputs": [],
   "source": [
    "plt.hist(diff_ts[where_big], bins=100);"
   ]
  },
  {
   "cell_type": "code",
   "execution_count": null,
   "metadata": {},
   "outputs": [],
   "source": [
    "plt.hist(np.diff(ts)*1e-3, bins=200);"
   ]
  },
  {
   "cell_type": "code",
   "execution_count": null,
   "metadata": {},
   "outputs": [],
   "source": [
    "(ts[badvls]*1e-3)[:10]"
   ]
  },
  {
   "cell_type": "code",
   "execution_count": null,
   "metadata": {},
   "outputs": [],
   "source": [
    "plt.plot(np.diff(ts[badvls]*1e-3))"
   ]
  },
  {
   "cell_type": "code",
   "execution_count": null,
   "metadata": {},
   "outputs": [],
   "source": [
    "plt.figure(figsize=(25,3))\n",
    "plt.plot(np.array(data).argmin(0) - 1, '.-')\n",
    "plt.plot(gaussian_filter(np.array(data).argmin(0).astype(float) - 1, 30), 'r')\n",
    "#plt.xlim(6500, 6600)\n",
    "plt.figure(figsize=(25,3))\n",
    "plt.plot(np.array(data).argmin(0) - 1, '.-')\n",
    "plt.xlim(0, 1200)\n",
    "plt.figure(figsize=(25,3))\n",
    "plt.plot(np.array(data).argmin(0) - 1, '.-')\n",
    "plt.xlim(3000, 4200)"
   ]
  },
  {
   "cell_type": "code",
   "execution_count": null,
   "metadata": {},
   "outputs": [],
   "source": [
    "plt.figure(figsize=(25,3))\n",
    "plt.plot(data[0] - data[1], '.-')\n",
    "#plt.xlim(6500, 6600)\n",
    "plt.ylim(-15,15)\n",
    "plt.grid()\n",
    "plt.figure(figsize=(25,3))\n",
    "plt.plot(data[0] - data[1], '.-')\n",
    "plt.xlim(0, 1000)\n",
    "plt.ylim(-15,15)\n",
    "plt.grid()"
   ]
  },
  {
   "cell_type": "code",
   "execution_count": null,
   "metadata": {},
   "outputs": [],
   "source": []
  },
  {
   "cell_type": "code",
   "execution_count": null,
   "metadata": {},
   "outputs": [],
   "source": [
    "plt.hist2d(np.abs(resids[1]), np.abs(resids[2]), bins=np.linspace(0, 25, 100));"
   ]
  },
  {
   "cell_type": "code",
   "execution_count": null,
   "metadata": {},
   "outputs": [],
   "source": [
    "plt.figure(figsize=(25,5))\n",
    "plt.plot(np.polyval( np.polyfit(x, y, 1), x) - y)\n",
    "plt.xlim(0, 300)"
   ]
  },
  {
   "cell_type": "code",
   "execution_count": null,
   "metadata": {},
   "outputs": [],
   "source": [
    "np.corrcoef(x, y)"
   ]
  },
  {
   "cell_type": "code",
   "execution_count": null,
   "metadata": {},
   "outputs": [],
   "source": [
    "CoM[:-off][filt[:-off]].shape, l3[off:][filt[off:]].shape"
   ]
  },
  {
   "cell_type": "code",
   "execution_count": null,
   "metadata": {},
   "outputs": [],
   "source": [
    "plt.figure(figsize=(15,8))\n",
    "index = 1\n",
    "nbins = 90\n",
    "filt = ~good# & (np.arange(len(gmd)) > len(gmd)/2) & (1320 < CoM)\n",
    "for off in [2, 1]:\n",
    "    plt.subplot(2,5,index)\n",
    "    index+=1\n",
    "    plt.hist2d(vls[filt,1200:1500].mean(1)[:-off], gmd[filt][off:], bins=nbins);\n",
    "    plt.title(\"offset: %d\" % -off)\n",
    "    #plt.xlim(304, 350)\n",
    "    plt.subplot(2,5,index+4)\n",
    "    plt.hist2d(vls[filt,1200:1500].mean(1)[:-off], xgmd[filt][off:], bins=nbins);\n",
    "    plt.title(\"offset: %d\" % -off)\n",
    "    #plt.xlim(304, 350)\n",
    "plt.subplot(2,5,index)\n",
    "index+=1\n",
    "plt.hist2d(vls[filt,1200:1500].mean(1), gmd[filt], bins=nbins)\n",
    "plt.title(\"offset: 0\")\n",
    "#plt.xlim(304, 350)\n",
    "plt.subplot(2,5,index+4)\n",
    "plt.hist2d(vls[filt,1200:1500].mean(1), xgmd[filt], bins=nbins)\n",
    "plt.title(\"offset: 0\")\n",
    "#plt.xlim(304, 350)\n",
    "for off in [1, 2]:\n",
    "    plt.subplot(2,5,index)\n",
    "    index+=1\n",
    "    plt.hist2d(vls[filt,1200:1500].mean(1)[off:], gmd[filt][:-off], bins=nbins);\n",
    "    plt.title(\"offset: %d\" % off)\n",
    "    #plt.xlim(304, 350)\n",
    "    plt.subplot(2,5,index+4)\n",
    "    plt.hist2d(vls[filt,1200:1500].mean(1)[off:], xgmd[filt][:-off], bins=nbins);\n",
    "    plt.title(\"offset: %d\" % off)\n",
    "    #plt.xlim(304, 350)\n",
    "plt.tight_layout()"
   ]
  },
  {
   "cell_type": "code",
   "execution_count": null,
   "metadata": {},
   "outputs": [],
   "source": []
  },
  {
   "cell_type": "code",
   "execution_count": null,
   "metadata": {},
   "outputs": [],
   "source": [
    "timetool = raw['tmo_atmopal_fltpos_ps'][:][order]\n",
    "#timetool = raw['tmo_atmopal_fltpos'][:][order]"
   ]
  },
  {
   "cell_type": "code",
   "execution_count": null,
   "metadata": {},
   "outputs": [],
   "source": [
    "delays"
   ]
  },
  {
   "cell_type": "code",
   "execution_count": null,
   "metadata": {},
   "outputs": [],
   "source": [
    "plt.figure(figsize=(15,8))\n",
    "delays_ps = (delays.mean() - delays) * 1e6\n",
    "for i, d in enumerate(delays[2:7]):\n",
    "    plt.hist(timetool[i+2==delay_idx], bins=100, alpha=0.7, label=d);\n",
    "#plt.yscale('log')\n",
    "#plt.xlim(-0.6, 0)\n",
    "plt.legend()\n",
    "plt.ylim(0, 500)"
   ]
  },
  {
   "cell_type": "code",
   "execution_count": null,
   "metadata": {},
   "outputs": [],
   "source": []
  },
  {
   "cell_type": "code",
   "execution_count": null,
   "metadata": {},
   "outputs": [],
   "source": [
    "valid_tt = (1<delay_idx)&(delay_idx<7)&(np.abs(timetool)>0.001) & (timetool<0.8)\n",
    "timetools, timetool_idx = np.unique(np.around(timetool, 3), return_inverse=True)\n",
    "plt.hist(timetools[timetool_idx[valid_tt]], bins=np.linspace(-1, 1, 150));\n",
    "#plt.ylim(0, 30)\n",
    "#plt.xlim(-1, 1.2)\n",
    "#plt.xlim(-0.005, 0.005)"
   ]
  },
  {
   "cell_type": "code",
   "execution_count": null,
   "metadata": {},
   "outputs": [],
   "source": [
    "Nbins_L3 = 50\n",
    "cnts_L3, bins_L3, _ = plt.hist(l3[good], bins=np.linspace(5640, 5750, Nbins_L3+1), log=True)\n",
    "idx_L3 = np.digitize(l3, bins_L3) - 1\n",
    "good = good & (0<=idx_L3) & (idx_L3<Nbins_L3)\n",
    "bins_L3 = (bins_L3[:-1] + bins_L3[1:]) / 2\n",
    "plt.xlabel(\"L3 energy\")\n",
    "plt.ylabel(\"# shots\")"
   ]
  },
  {
   "cell_type": "code",
   "execution_count": null,
   "metadata": {},
   "outputs": [],
   "source": [
    "shots_per_L3 =  np.bincount(idx_L3[good], minlength=Nbins_L3)\n",
    "gmd_vs_L3 = np.bincount(idx_L3[good], weights=gmd[good], minlength=Nbins_L3) / shots_per_L3"
   ]
  },
  {
   "cell_type": "code",
   "execution_count": null,
   "metadata": {},
   "outputs": [],
   "source": [
    "plt.hist2d(l3[good], gmd[good], bins=200, norm=LogNorm());\n",
    "plt.ylim(0,)\n",
    "plt.xlabel(\"L3 energy\")\n",
    "plt.ylabel(\"GMD energy\")\n",
    "plt.plot(bins_L3, gmd_vs_L3, 'r')\n",
    "plt.ylim(0,)\n",
    "plt.gca().twinx()\n",
    "plt.plot(bins_L3, shots_per_L3, 'k')\n",
    "#plt.yscale('log')\n",
    "plt.ylabel(\"# shots\", rotation=270)\n",
    "plt.ylim(0,)"
   ]
  },
  {
   "cell_type": "code",
   "execution_count": null,
   "metadata": {},
   "outputs": [],
   "source": [
    "plt.hist2d(l3[good], CoM[good], bins=200, norm=LogNorm());\n"
   ]
  },
  {
   "cell_type": "code",
   "execution_count": null,
   "metadata": {},
   "outputs": [],
   "source": [
    "plt.figure(figsize=(25,4))\n",
    "plt.plot(m_q, wfs[good&jet&xray&goose].mean(0))\n",
    "plt.plot(m_q, wfs[good&jet&xray&~goose].mean(0))\n",
    "plt.plot(m_q, wfs[jet&~xray&~goose].mean(0))\n",
    "plt.xlim(0, 105)\n",
    "plt.xticks(np.arange(0, 105.1, 1), rotation=90)\n",
    "plt.grid()\n",
    "plt.ylim(-20, 30)"
   ]
  },
  {
   "cell_type": "code",
   "execution_count": null,
   "metadata": {},
   "outputs": [],
   "source": [
    "mpks = [15, 27, 29, 37, 43, 69, 85, 100]\n",
    "XAS = np.zeros((len(mpks), 2, len(delays), len(bins_L3)))\n",
    "for i, mpk in enumerate(mpks):\n",
    "    tof_filt = (mpk - 0.25 < m_q) & (m_q < mpk + 0.25)\n",
    "    for j in [0, 1]:\n",
    "        for k, d in enumerate(delays):\n",
    "            data_filt = good & jet & xray & (goose==(1-j)) & (delay_idx==k)\n",
    "            xas = np.bincount(idx_L3[data_filt], weights=wfs[data_filt][:,tof_filt].mean(1), minlength=Nbins_L3)\n",
    "            xas /= np.bincount(idx_L3[data_filt], weights=gmd[data_filt], minlength=Nbins_L3)\n",
    "            XAS[i, j, k] = xas.copy()"
   ]
  },
  {
   "cell_type": "code",
   "execution_count": null,
   "metadata": {},
   "outputs": [],
   "source": [
    "goose.sum(), len(goose)"
   ]
  },
  {
   "cell_type": "code",
   "execution_count": null,
   "metadata": {},
   "outputs": [],
   "source": [
    "xas.shape"
   ]
  },
  {
   "cell_type": "code",
   "execution_count": null,
   "metadata": {},
   "outputs": [],
   "source": []
  },
  {
   "cell_type": "code",
   "execution_count": null,
   "metadata": {},
   "outputs": [],
   "source": [
    "print(delays)\n",
    "jump = 10\n",
    "plt.figure(figsize=(10, 6))\n",
    "for i, mpk in enumerate(mpks):\n",
    "    #if mpk!=43: continue\n",
    "    \n",
    "    \n",
    "    y = XAS[i, 0, :].T\n",
    "    plt.plot(bins_L3,  y / np.nanmax(y), label=mpk)\n",
    "    #plt.plot(bins_L3, XAS[i, 1, :].T + np.arange(len(delays))*jump, 'r', alpha=0.8)\n",
    "    #plt.yticks(np.arange(0, len(delays)*jump, jump), delays)\n",
    "    #plt.title(mpk)\n",
    "plt.grid()\n",
    "plt.legend(ncol=2)\n",
    "plt.ylim(-0.05, 1.05)\n",
    "plt.xlabel(\"L3 energy / MeV\")\n",
    "plt.ylabel(\"\")"
   ]
  },
  {
   "cell_type": "code",
   "execution_count": null,
   "metadata": {},
   "outputs": [],
   "source": [
    "plt.figure(figsize=(20,10))\n",
    "delays_ps = (delays.mean() - delays) * 1e6\n",
    "for i, d in enumerate(delays):\n",
    "    plt.hist(timetool[i==delay_idx], bins=np.linspace(0, 1000, 150), alpha=0.7, label=d);\n",
    "#plt.yscale('log')\n",
    "#plt.xlim(-0.6, 0)\n",
    "plt.legend()\n",
    "plt.ylim(0, 500)"
   ]
  },
  {
   "cell_type": "code",
   "execution_count": null,
   "metadata": {},
   "outputs": [],
   "source": [
    "plt.plot(m_q, gaussian_filter(wfs[jet&~xray].mean(0), 3))\n",
    "plt.plot(m_q, gaussian_filter(wfs[jet&xray].mean(0), 3))\n",
    "plt.xlim(0, 110)\n",
    "plt.ylim(-2, 2)"
   ]
  },
  {
   "cell_type": "code",
   "execution_count": null,
   "metadata": {},
   "outputs": [],
   "source": [
    "plt.figure(figsize=(20,4))\n",
    "plt.plot(m_q, wfs[jet&xray&~goose&(delay>5438.231)&(5695<l3)&(l3<5702)].mean(0), label='ontime high delay')\n",
    "plt.plot(m_q, wfs[jet&xray&~goose&(delay<=5438.231)&(5695<l3)&(l3<5702)].mean(0), label='ontime low delay')\n",
    "plt.plot(m_q, wfs[jet&xray&goose&(delay>5438.231)&(5695<l3)&(l3<5702)].mean(0), label='goose high delay')\n",
    "plt.plot(m_q, wfs[jet&xray&goose&(delay<=5438.231)&(5695<l3)&(l3<5702)].mean(0), label='goose low delay')\n",
    "plt.xlim(0, 110)\n",
    "plt.ylim(-3, 4)\n",
    "plt.xticks(np.arange(0, 120.1, 1))\n",
    "plt.legend()\n",
    "plt.xlim(20, 60)\n",
    "plt.grid()\n",
    "plt.xlim(41, 45)"
   ]
  },
  {
   "cell_type": "code",
   "execution_count": null,
   "metadata": {},
   "outputs": [],
   "source": [
    "delays"
   ]
  },
  {
   "cell_type": "code",
   "execution_count": null,
   "metadata": {},
   "outputs": [],
   "source": []
  }
 ],
 "metadata": {
  "kernelspec": {
   "display_name": "Python 3",
   "language": "python",
   "name": "python3"
  },
  "language_info": {
   "codemirror_mode": {
    "name": "ipython",
    "version": 3
   },
   "file_extension": ".py",
   "mimetype": "text/x-python",
   "name": "python",
   "nbconvert_exporter": "python",
   "pygments_lexer": "ipython3",
   "version": "3.6.6"
  }
 },
 "nbformat": 4,
 "nbformat_minor": 2
}
