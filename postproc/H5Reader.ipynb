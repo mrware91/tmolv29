{
 "cells": [
  {
   "cell_type": "code",
   "execution_count": null,
   "metadata": {},
   "outputs": [],
   "source": [
    "import numpy as np\n",
    "import matplotlib.pyplot as plt\n",
    "import h5py"
   ]
  },
  {
   "cell_type": "code",
   "execution_count": null,
   "metadata": {},
   "outputs": [],
   "source": [
    "exp='tmolv2918'\n",
    "run = 215\n",
    "user='mrware'\n",
    "subdirectory='test'"
   ]
  },
  {
   "cell_type": "code",
   "execution_count": null,
   "metadata": {},
   "outputs": [],
   "source": [
    "filepath = '/cds/data/psdm/tmo/%s/scratch/%s/slurm/%s/run-%d.h5' % (exp, user, subdirectory, run)\n",
    "data = h5py.File(filepath, 'r')"
   ]
  },
  {
   "cell_type": "code",
   "execution_count": null,
   "metadata": {},
   "outputs": [],
   "source": [
    "data.keys()"
   ]
  },
  {
   "cell_type": "markdown",
   "metadata": {},
   "source": [
    "# Verify timestamps look ok\n",
    "This was problem in lv29"
   ]
  },
  {
   "cell_type": "code",
   "execution_count": null,
   "metadata": {},
   "outputs": [],
   "source": [
    "timestamps = np.array(data['timestamp'])"
   ]
  },
  {
   "cell_type": "markdown",
   "metadata": {},
   "source": [
    "Verify unique timestamps"
   ]
  },
  {
   "cell_type": "code",
   "execution_count": null,
   "metadata": {},
   "outputs": [],
   "source": [
    "print(timestamps.shape, np.unique(timestamps).size)"
   ]
  },
  {
   "cell_type": "markdown",
   "metadata": {},
   "source": [
    "Verify frequency after time-sorting"
   ]
  },
  {
   "cell_type": "code",
   "execution_count": null,
   "metadata": {},
   "outputs": [],
   "source": [
    "print('Expected run duration is ... %f minutes' % (timestamps.size*8*1e-3/60.) )"
   ]
  },
  {
   "cell_type": "code",
   "execution_count": null,
   "metadata": {},
   "outputs": [],
   "source": [
    "sortedTimestamps = np.sort(timestamps)\n",
    "timeRange = sortedTimestamps[-1]-sortedTimestamps[0]"
   ]
  },
  {
   "cell_type": "code",
   "execution_count": null,
   "metadata": {},
   "outputs": [],
   "source": [
    "print('Timestamps indicate a run duration of ... %f minutes' % (timeRange*1e-9/60.))"
   ]
  },
  {
   "cell_type": "markdown",
   "metadata": {},
   "source": [
    "# Epics analysis example"
   ]
  },
  {
   "cell_type": "code",
   "execution_count": null,
   "metadata": {},
   "outputs": [],
   "source": [
    "data['epics'].keys()"
   ]
  },
  {
   "cell_type": "code",
   "execution_count": null,
   "metadata": {},
   "outputs": [],
   "source": [
    "vitaraDelay = np.array(data['epics']['las_fs14_target_time_dial'])\n",
    "plt.plot(vitaraDelay[:500])\n",
    "plt.xlabel('time idx')\n",
    "plt.ylabel('vitara delay (ns)')"
   ]
  },
  {
   "cell_type": "markdown",
   "metadata": {},
   "source": [
    "# TOF analysis example"
   ]
  },
  {
   "cell_type": "code",
   "execution_count": null,
   "metadata": {},
   "outputs": [],
   "source": [
    "loadMax = 1000\n",
    "evrs = np.array( data['evrs'][:loadMax,] ).astype(int)\n",
    "itofWaveform = np.array( data['itof-waveform'][:loadMax,] )\n",
    "print(evrs.shape, itofWaveform.shape)\n",
    "t = np.array( data['itof-time'][:loadMax,] )[0,:]\n",
    "\n",
    "gas_on = evrs[:,70]==1\n",
    "gas_off = np.logical_not(gas_on)\n",
    "\n",
    "plt.plot(t, itofWaveform[gas_on,:].mean(0), 'k', label='Jet on');\n",
    "plt.plot(t, itofWaveform[gas_off,:].mean(0), 'r', alpha=0.5, label='Jet off');\n",
    "plt.title(\"ion TOF traces\");\n",
    "plt.legend()\n",
    "plt.xlabel(\"ToF / us\")"
   ]
  }
 ],
 "metadata": {
  "kernelspec": {
   "display_name": "LCLS-II py3",
   "language": "python",
   "name": "ana2-current"
  },
  "language_info": {
   "codemirror_mode": {
    "name": "ipython",
    "version": 3
   },
   "file_extension": ".py",
   "mimetype": "text/x-python",
   "name": "python",
   "nbconvert_exporter": "python",
   "pygments_lexer": "ipython3",
   "version": "3.7.9"
  }
 },
 "nbformat": 4,
 "nbformat_minor": 2
}
