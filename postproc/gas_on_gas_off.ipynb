{
 "cells": [
  {
   "cell_type": "code",
   "execution_count": null,
   "metadata": {},
   "outputs": [],
   "source": [
    "import numpy as np\n",
    "import matplotlib.pyplot as plt\n",
    "from h5py import File\n",
    "import pandas as pd\n",
    "from scipy.signal import savgol_filter\n",
    "from scipy import signal"
   ]
  },
  {
   "cell_type": "code",
   "execution_count": null,
   "metadata": {},
   "outputs": [],
   "source": [
    "run=86\n",
    "raw = File(\"/reg/data/ana15/tmo/tmolv2918/scratch/preproc/v5/run%i_v5.h5\" % run,'r')"
   ]
  },
  {
   "cell_type": "code",
   "execution_count": null,
   "metadata": {},
   "outputs": [],
   "source": [
    "# get some data\n",
    "order = raw['timestamp'][:].argsort()  # get and sort timestamps\n",
    "jet   = raw['evrs'][:,70][order].astype(bool)  # jet on or off; sort array by timestamps\n",
    "bykik = raw['evrs'][:,161].astype(bool)[order]  # no x-rays?\n",
    "goose = raw['evrs'][:,68].astype(bool)[order]  # UV off ?\n",
    "\n",
    "gmd     = raw['gmd_energy'][:][order]  # gmd after attenuator\n",
    "xgmd    = raw['xgmd_energy'][:][order]  # gmd after attenuator\n",
    "photes  = raw['ebeam_ebeamPhotonEnergy'][:][order]  # nominal photon energies\n",
    "l3s     = raw['ebeam_ebeamL3Energy'][:][order]  # l3 beam energy\n",
    "vls     = raw[\"vls\"][:][order]  # spectra from vls spectrometer\n",
    "itof_wf = raw[\"iToF_wf\"][:][order]  # itof spectra\n",
    "\n",
    "jet_delay   = raw['epics_lamp_jet_delay'][:][order]  # what is that??\n",
    "laser_delay = raw['epics_las_fs14_target_time'][:][order]  # laser delay :O\n",
    "\n",
    "# time of flight taken from elio\n",
    "tflight = np.arange(itof_wf.shape[1]) * 10 / 60 / 100\n",
    "gmdFilt = gmd>-0.5\n",
    "\n",
    "l3_filter_low = l3s>5670\n",
    "l3_filter_up = l3s < 5700\n",
    "\n",
    "#tof to mass:\n",
    "c, t0 = 1.315, 0.198 \n",
    "m_qs = ((tflight - t0) / c)**2\n",
    "\n",
    "# get rid shots with no gas or x-rays\n",
    "itof        = itof_wf[jet&~bykik&~goose&gmdFilt]\n",
    "goose_itof  = itof_wf[jet&~bykik&goose&gmdFilt]\n",
    "delays = laser_delay[jet&~bykik&~goose&gmdFilt]\n",
    "xgmdF  = xgmd[jet&~bykik&~goose&gmdFilt]\n",
    "vls    = pd.DataFrame(np.squeeze(vls[jet&~bykik&~goose&gmdFilt]))\n",
    "l3s    = pd.DataFrame(np.squeeze(l3s[jet&~bykik&~goose&gmdFilt]))\n",
    "photes = photes[jet&~bykik&~goose&gmdFilt]\n",
    "\n",
    "itof_nokick_gas=itof_wf[~bykik&l3_filter_up&l3_filter_low&jet]#this selects also on jet\n",
    "itof_nokick_nogas=itof_wf[~bykik&l3_filter_up&l3_filter_low&~jet]#this\n",
    "newgmd_gas=xgmd[~bykik&l3_filter_up&l3_filter_low&jet]#this\n",
    "newgmd_gas_nogas=xgmd[~bykik&l3_filter_up&l3_filter_low&jet]#this\n",
    "\n",
    "iev    = pd.DataFrame(itof, columns=m_qs) "
   ]
  },
  {
   "cell_type": "code",
   "execution_count": null,
   "metadata": {},
   "outputs": [],
   "source": []
  }
 ],
 "metadata": {
  "kernelspec": {
   "display_name": "Python 3",
   "language": "python",
   "name": "python3"
  },
  "language_info": {
   "codemirror_mode": {
    "name": "ipython",
    "version": 3
   },
   "file_extension": ".py",
   "mimetype": "text/x-python",
   "name": "python",
   "nbconvert_exporter": "python",
   "pygments_lexer": "ipython3",
   "version": "3.6.6"
  }
 },
 "nbformat": 4,
 "nbformat_minor": 2
}
