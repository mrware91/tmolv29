{
 "cells": [
  {
   "cell_type": "code",
   "execution_count": null,
   "metadata": {},
   "outputs": [],
   "source": [
    "import psana as ps\n",
    "import numpy as np\n",
    "import matplotlib.pyplot as plt\n",
    "%matplotlib inline"
   ]
  },
  {
   "cell_type": "code",
   "execution_count": null,
   "metadata": {},
   "outputs": [],
   "source": [
    "from scipy.ndimage.filters import gaussian_filter\n",
    "from scipy.optimize import curve_fit\n",
    "import matplotlib.colors as colors"
   ]
  },
  {
   "cell_type": "code",
   "execution_count": null,
   "metadata": {},
   "outputs": [],
   "source": [
    "run = 40\n",
    "#exp = \"tmolw0518\"\n",
    "exp = \"tmolw0618\"\n",
    "\n",
    "ds = ps.DataSource(exp=exp, run=run)\n",
    "run = next(ds.runs())"
   ]
  },
  {
   "cell_type": "code",
   "execution_count": null,
   "metadata": {},
   "outputs": [],
   "source": [
    "timing = run.Detector(\"timing\")\n",
    "hsd = run.Detector(\"hsd\")\n"
   ]
  },
  {
   "cell_type": "code",
   "execution_count": null,
   "metadata": {},
   "outputs": [],
   "source": [
    "Nfind = 1000\n",
    "Nfound = 0\n",
    "\n",
    "#xenergies = np.empty_like(positions)\n",
    "times = None\n",
    "\n",
    "chan = 0\n",
    "\n",
    "for nevent, event in enumerate(run.events()):\n",
    "    \n",
    "    if nevent < 100: continue\n",
    "    \n",
    "    hsd_data = hsd.raw.waveforms(event)\n",
    "    \n",
    "    if hsd_data is None: continue\n",
    "    \n",
    "    if times is None:\n",
    "        times = hsd_data[chan]['times'] * 1e6\n",
    "        wfs = np.empty((Nfind, len(times)))\n",
    "    wfs[Nfound] = hsd_data[chan][0]\n",
    "    \n",
    "    Nfound += 1\n",
    "    if Nfound == Nfind: break"
   ]
  },
  {
   "cell_type": "code",
   "execution_count": null,
   "metadata": {},
   "outputs": [],
   "source": [
    "plt.plot(times[::4], wfs[0][::4])\n",
    "#plt.plot(times[1::4],  wfs[0][1::4])\n",
    "#plt.plot(times, wfs[0], 'k', alpha=0.6)\n",
    "plt.title('Run 41, 400 eV')\n",
    "plt.xlim(1, 8)\n",
    "plt.ylim(2020, 2100)"
   ]
  },
  {
   "cell_type": "code",
   "execution_count": null,
   "metadata": {},
   "outputs": [],
   "source": [
    "plt.plot(times[::4], wfs[0][::4])\n",
    "#plt.plot(times[1::4],  wfs[0][1::4])\n",
    "#plt.plot(times, wfs[0], 'k', alpha=0.6)\n",
    "plt.title('392 eV')\n",
    "plt.xlim(1, 8)\n",
    "plt.ylim(2020, 2100)"
   ]
  },
  {
   "cell_type": "code",
   "execution_count": null,
   "metadata": {},
   "outputs": [],
   "source": [
    "wfs_mean = wfs.mean(0)\n",
    "wfs_mean -= wfs_mean[times < 0.15].mean()\n",
    "wfs_mean = gaussian_filter(wfs_mean, 30)\n",
    "plt.figure(figsize=(18,3))\n",
    "plt.plot(times, wfs_mean)\n",
    "plt.xlim(0, 7)\n",
    "plt.xticks(np.arange(0, 8.01, 0.2));\n",
    "plt.grid()\n",
    "pks_idx = np.where((wfs_mean[:-2] < wfs_mean[1:-1]) & (wfs_mean[1:-1] > wfs_mean[2:]) & (wfs_mean[1:-1] > 2.0) & (times[1:-1] > 1.3))[0] + 1\n",
    "#pks_idx = pks_idx[:-1]\n",
    "#pks_idx = np.concatenate((pks_idx[:2], pks_idx[6:7]))\n",
    "t_pks = times[pks_idx]\n",
    "plt.plot(t_pks, wfs_mean[pks_idx], 'rx')\n",
    "plt.xlabel(\"Time of flight / us\")"
   ]
  },
  {
   "cell_type": "code",
   "execution_count": null,
   "metadata": {},
   "outputs": [],
   "source": []
  },
  {
   "cell_type": "code",
   "execution_count": null,
   "metadata": {},
   "outputs": [],
   "source": [
    "def ToF(m_q, c, t0):\n",
    "    return t0 + c * np.sqrt(m_q)\n",
    "m = 20.0\n",
    "q0s = [1, 2, 3, 4]\n",
    "if 1==0: # manual peaks\n",
    "    t_pks = np.array([4.582, 3.30, 2.732])[::-1]\n",
    "else: # automated mode\n",
    "    t_pks = times[pks_idx]\n",
    "dq = np.arange(len(t_pks))\n",
    "best = 9999999999999999\n",
    "plt.figure(dpi=70)\n",
    "for q0_ in q0s:\n",
    "    qs_ = q0_ + dq\n",
    "    m_qs = m / qs_\n",
    "    c_, t0_ = curve_fit(ToF, m_qs, t_pks[::-1], p0=[1,1])[0]\n",
    "    resid = ((ToF(m_qs, c_, t0_) - t_pks[::-1])**2).mean()\n",
    "    if resid < best:\n",
    "        c, t0 = c_, t0_\n",
    "        best = resid\n",
    "        q0 = q0_\n",
    "        qs = qs_\n",
    "    plt.plot(qs_, ToF(m_qs, c_, t0_) - t_pks[::-1], '.-', label=q0_)\n",
    "plt.legend()\n",
    "plt.xlabel(\"Charge #\")\n",
    "plt.ylabel(\"Residual\")\n",
    "plt.grid()\n",
    "plt.title(\"Best: q0=%d\" % q0)\n",
    "m_qs = ((times - t0) / c)**2\n",
    "print(\"c: %.5f, t0: %.5f\" % (c, t0))\n",
    "for qi in np.arange(1, 9):\n",
    "    print(\"q=%d, t=%.5f\" % (qi, ToF(m / qi, c, t0)))"
   ]
  },
  {
   "cell_type": "code",
   "execution_count": null,
   "metadata": {},
   "outputs": [],
   "source": [
    "plt.figure(dpi=80, figsize=(15,3))\n",
    "plt.plot(m_qs, wfs_mean * 2, 'k', label='avg')\n",
    "plt.xlim(0, 30)\n",
    "plt.ylim(-1.5, 1.5)\n",
    "plt.xticks(np.arange(0, 30.1, 1));\n",
    "for qi in range(1, 8):\n",
    "    #ti = ToF(m / qi, c, t0)\n",
    "    plt.plot([m/qi, m/qi], [-1.5, 1.5], 'r--')\n",
    "    plt.text(m/qi, 1.5, '%d+' % qi, ha='center', va='bottom')\n",
    "plt.grid(alpha=0.2)\n",
    "plt.xlabel(\"M / Q\")"
   ]
  },
  {
   "cell_type": "code",
   "execution_count": null,
   "metadata": {},
   "outputs": [],
   "source": []
  }
 ],
 "metadata": {
  "kernelspec": {
   "display_name": "LCLS-II py3",
   "language": "python",
   "name": "ana2-current"
  },
  "language_info": {
   "codemirror_mode": {
    "name": "ipython",
    "version": 3
   },
   "file_extension": ".py",
   "mimetype": "text/x-python",
   "name": "python",
   "nbconvert_exporter": "python",
   "pygments_lexer": "ipython3",
   "version": "3.7.8"
  }
 },
 "nbformat": 4,
 "nbformat_minor": 2
}
