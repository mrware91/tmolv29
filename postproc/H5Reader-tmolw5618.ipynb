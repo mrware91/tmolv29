{
 "cells": [
  {
   "cell_type": "code",
   "execution_count": null,
   "metadata": {},
   "outputs": [],
   "source": [
    "import numpy as np\n",
    "import matplotlib.pyplot as plt\n",
    "import h5py"
   ]
  },
  {
   "cell_type": "code",
   "execution_count": null,
   "metadata": {},
   "outputs": [],
   "source": [
    "# exp='tmolv2918'\n",
    "exp='tmolw5618'\n",
    "user='sample'\n",
    "subdirectory='sample'"
   ]
  },
  {
   "cell_type": "markdown",
   "metadata": {},
   "source": [
    "# Compare histograms"
   ]
  },
  {
   "cell_type": "code",
   "execution_count": null,
   "metadata": {},
   "outputs": [],
   "source": [
    "plt.figure()\n",
    "# for run in range(339,342):\n",
    "for run in range(353,355):\n",
    "    try:\n",
    "        filepath = '/cds/data/psdm/tmo/%s/scratch/%s/slurm/%s/run-%d.h5' % (exp, user, subdirectory, run)\n",
    "        with h5py.File(filepath, 'r') as data:\n",
    "            print(data.keys())\n",
    "            evrs = np.copy(data['evrs']).astype(bool)\n",
    "            print(np.nanmax(data['photonEnergy']))\n",
    "    #         goodShots = (~evrs[:,161])\n",
    "            goodShots = np.ones(evrs.shape[0]).astype(bool)\n",
    "    #         print(evrs.shape,goodShots.shape,goodShots.dtype)\n",
    "            ampl = np.array(data['MBa'])[goodShots,:][:]\n",
    "            times = np.array(data['MBt'])[goodShots,:][:]\n",
    "            ampl0 = ampl[~np.isnan(ampl)]\n",
    "            times0 = times[~np.isnan(times)]\n",
    "\n",
    "            hist, edges= np.histogram(times0, bins=2000, range=(0,2))\n",
    "    #         plt.hist(times, bins=200, range=(0,2),);\n",
    "            plt.plot(edges[1:], hist, label=str(run))\n",
    "    except OSError:\n",
    "        continue\n",
    "plt.xlim([.25,2])\n",
    "plt.legend()"
   ]
  },
  {
   "cell_type": "code",
   "execution_count": null,
   "metadata": {},
   "outputs": [],
   "source": [
    "filepath = '/cds/data/psdm/tmo/tmolw5618/scratch/sample/slurm/c01188-run-353.h5'\n",
    "data = h5py.File(filepath,'r')\n",
    "# !ls $filepath\n",
    "def printH5keys(filepath):\n",
    "    with h5py.File(filepath, 'r') as data:\n",
    "        return list(data.keys())\n",
    "printH5keys(filepath)"
   ]
  },
  {
   "cell_type": "markdown",
   "metadata": {},
   "source": [
    "# Verify uniqueness of data"
   ]
  },
  {
   "cell_type": "code",
   "execution_count": null,
   "metadata": {},
   "outputs": [],
   "source": [
    "evrs = np.copy(data['evrs']).astype(bool)\n",
    "print(evrs.shape)"
   ]
  },
  {
   "cell_type": "code",
   "execution_count": null,
   "metadata": {},
   "outputs": [],
   "source": [
    "mbWaveform = data['mb-waveform-downsample']#[evrs[:,68],:]\n",
    "# itofWaveform = data['iToF_wf'][evrs[:,68],:]"
   ]
  },
  {
   "cell_type": "code",
   "execution_count": null,
   "metadata": {},
   "outputs": [],
   "source": [
    "print(mbWaveform.shape)\n",
    "print(np.unique(np.sum(mbWaveform,-1)).size)"
   ]
  },
  {
   "cell_type": "code",
   "execution_count": null,
   "metadata": {},
   "outputs": [],
   "source": [
    "mbWaveform[0,:]-mbWaveform[-1,:]"
   ]
  },
  {
   "cell_type": "markdown",
   "metadata": {},
   "source": [
    "# Verify timestamps look ok\n",
    "This was problem in lv29"
   ]
  },
  {
   "cell_type": "code",
   "execution_count": null,
   "metadata": {},
   "outputs": [],
   "source": [
    "timestamps = np.array(data['timestamp'])"
   ]
  },
  {
   "cell_type": "markdown",
   "metadata": {},
   "source": [
    "Verify unique timestamps"
   ]
  },
  {
   "cell_type": "code",
   "execution_count": null,
   "metadata": {},
   "outputs": [],
   "source": [
    "print(timestamps.shape, np.unique(timestamps).size)"
   ]
  },
  {
   "cell_type": "markdown",
   "metadata": {},
   "source": [
    "Verify frequency after time-sorting"
   ]
  },
  {
   "cell_type": "code",
   "execution_count": null,
   "metadata": {},
   "outputs": [],
   "source": [
    "print('Expected run duration is ... %f minutes' % (timestamps.size*8*1e-3/60.) )"
   ]
  },
  {
   "cell_type": "code",
   "execution_count": null,
   "metadata": {},
   "outputs": [],
   "source": [
    "sortedTimestamps = np.sort(timestamps)\n",
    "timeRange = sortedTimestamps[-1]-sortedTimestamps[0]"
   ]
  },
  {
   "cell_type": "code",
   "execution_count": null,
   "metadata": {},
   "outputs": [],
   "source": [
    "print('Timestamps indicate a run duration of ... %f minutes' % (timeRange*1e-9/60.))"
   ]
  },
  {
   "cell_type": "markdown",
   "metadata": {},
   "source": [
    "# Epics analysis example"
   ]
  },
  {
   "cell_type": "code",
   "execution_count": null,
   "metadata": {},
   "outputs": [],
   "source": [
    "data['epics'].keys()"
   ]
  },
  {
   "cell_type": "code",
   "execution_count": null,
   "metadata": {},
   "outputs": [],
   "source": [
    "vitaraDelay = np.array(data['epics']['las_fs14_target_time_dial'])\n",
    "plt.plot(vitaraDelay[:500])\n",
    "plt.xlabel('time idx')\n",
    "plt.ylabel('vitara delay (ns)')"
   ]
  },
  {
   "cell_type": "markdown",
   "metadata": {},
   "source": [
    "# MB analysis example"
   ]
  },
  {
   "cell_type": "code",
   "execution_count": null,
   "metadata": {},
   "outputs": [],
   "source": [
    "loadMax = 1000\n",
    "evrs = np.array( data['evrs'][:loadMax,] ).astype(int)\n",
    "mbWaveform = np.array( data['mb-waveform'][:loadMax,] )\n",
    "print(evrs.shape, mbWaveform.shape)\n",
    "t = np.array( data['mb-time'][:loadMax,] )[0,:]\n",
    "\n",
    "plt.plot(t, mbWaveform.mean(0), 'k', label='Jet on');\n",
    "plt.title(\"MB traces\");\n",
    "plt.legend()\n",
    "plt.xlabel(\"ToF / us\")"
   ]
  },
  {
   "cell_type": "markdown",
   "metadata": {},
   "source": [
    "# Test correlations for off-by-one errors\n",
    "Repeat example for VLS sum vs. pulse energy\n",
    "Should look correlated if all is well"
   ]
  },
  {
   "cell_type": "code",
   "execution_count": null,
   "metadata": {},
   "outputs": [],
   "source": [
    "pulseEnergy = data['pulseEnergy']\n",
    "electronCounts = np.nansum(~np.isnan(data['MBt']),-1)\n",
    "plt.scatter(pulseEnergy,electronCounts)"
   ]
  },
  {
   "cell_type": "code",
   "execution_count": null,
   "metadata": {},
   "outputs": [],
   "source": []
  }
 ],
 "metadata": {
  "kernelspec": {
   "display_name": "LCLS-II py3",
   "language": "python",
   "name": "ana2-current"
  },
  "language_info": {
   "codemirror_mode": {
    "name": "ipython",
    "version": 3
   },
   "file_extension": ".py",
   "mimetype": "text/x-python",
   "name": "python",
   "nbconvert_exporter": "python",
   "pygments_lexer": "ipython3",
   "version": "3.7.10"
  }
 },
 "nbformat": 4,
 "nbformat_minor": 2
}
